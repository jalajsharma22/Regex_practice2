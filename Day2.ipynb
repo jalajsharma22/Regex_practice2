{
 "cells": [
  {
   "cell_type": "code",
   "execution_count": null,
   "id": "731a24be",
   "metadata": {},
   "outputs": [],
   "source": [
    "#looping  statement\n",
    "#for while"
   ]
  },
  {
   "cell_type": "code",
   "execution_count": null,
   "id": "ecb9f71a",
   "metadata": {},
   "outputs": [],
   "source": []
  },
  {
   "cell_type": "code",
   "execution_count": null,
   "id": "4468ffab",
   "metadata": {},
   "outputs": [],
   "source": []
  },
  {
   "cell_type": "code",
   "execution_count": null,
   "id": "c31b4717",
   "metadata": {},
   "outputs": [],
   "source": []
  },
  {
   "cell_type": "code",
   "execution_count": 2,
   "id": "09eb41e6",
   "metadata": {},
   "outputs": [
    {
     "data": {
      "text/plain": [
       "'RAJA'"
      ]
     },
     "execution_count": 2,
     "metadata": {},
     "output_type": "execute_result"
    }
   ],
   "source": [
    "state=\"RAJASTHAN\"        \n",
    "state[:4]\n"
   ]
  },
  {
   "cell_type": "code",
   "execution_count": null,
   "id": "e109d99b",
   "metadata": {},
   "outputs": [],
   "source": [
    "#loops (repetative)\n",
    "#range(start,stop,[step=1])\n",
    "#for i in range(0,10)"
   ]
  },
  {
   "cell_type": "code",
   "execution_count": 4,
   "id": "274340a6",
   "metadata": {},
   "outputs": [
    {
     "name": "stdout",
     "output_type": "stream",
     "text": [
      "1\n",
      "4\n",
      "7\n"
     ]
    }
   ],
   "source": [
    "for i in range(1,8,3):\n",
    "    print(i)"
   ]
  },
  {
   "cell_type": "code",
   "execution_count": 5,
   "id": "f868c874",
   "metadata": {},
   "outputs": [
    {
     "name": "stdout",
     "output_type": "stream",
     "text": [
      "70\n",
      "35\n"
     ]
    }
   ],
   "source": [
    "for i in range(97,18,-1):\n",
    "    if(i%5==0 and  i%7==0):\n",
    "        print(i)\n",
    "        "
   ]
  },
  {
   "cell_type": "code",
   "execution_count": 6,
   "id": "f6cb3297",
   "metadata": {},
   "outputs": [
    {
     "name": "stdout",
     "output_type": "stream",
     "text": [
      "h\n",
      "e\n",
      "l\n",
      "l\n",
      "o\n"
     ]
    }
   ],
   "source": [
    "for i in \"hello\":\n",
    "    print(i)"
   ]
  },
  {
   "cell_type": "code",
   "execution_count": 2,
   "id": "01646c54",
   "metadata": {},
   "outputs": [
    {
     "name": "stdout",
     "output_type": "stream",
     "text": [
      "0 hello h\n",
      "1 hello e\n",
      "2 hello l\n",
      "3 hello l\n",
      "4 hello o\n"
     ]
    }
   ],
   "source": [
    "data=\"hello\"\n",
    "for index in range(0,5):\n",
    "    print(index, data, data[index])"
   ]
  },
  {
   "cell_type": "code",
   "execution_count": 3,
   "id": "604aebe0",
   "metadata": {},
   "outputs": [
    {
     "name": "stdout",
     "output_type": "stream",
     "text": [
      "5\n"
     ]
    }
   ],
   "source": [
    "#find the lenth of  string without  lenth method\n",
    "\n",
    "s=\"hello\"\n",
    "count=0\n",
    "for i in s:\n",
    "    count+=1\n",
    "print(count)    "
   ]
  },
  {
   "cell_type": "code",
   "execution_count": 6,
   "id": "45bbb08f",
   "metadata": {},
   "outputs": [
    {
     "name": "stdout",
     "output_type": "stream",
     "text": [
      "enter stringjalaj sharma\n",
      "4\n"
     ]
    }
   ],
   "source": [
    "#using for loop check  no. of vowels\n",
    "s=input(\"enter string\")\n",
    "count=0\n",
    "for i in s:\n",
    "    if(i==\"a\" or i==\"e\" or i==\"i\" or i==\"o\" or i==\"u\"):\n",
    "        count+=1\n",
    "print(count)        "
   ]
  },
  {
   "cell_type": "code",
   "execution_count": 7,
   "id": "d1f7e150",
   "metadata": {},
   "outputs": [
    {
     "name": "stdout",
     "output_type": "stream",
     "text": [
      "2\n"
     ]
    }
   ],
   "source": [
    "total=0\n",
    "for i in \"hello\":\n",
    "    if(i in \"aeiou\"):\n",
    "        total+=1\n",
    "print(total)        "
   ]
  },
  {
   "cell_type": "code",
   "execution_count": 9,
   "id": "95d5f9bc",
   "metadata": {},
   "outputs": [
    {
     "name": "stdout",
     "output_type": "stream",
     "text": [
      "3\n"
     ]
    }
   ],
   "source": [
    "total=0\n",
    "for i  in \"hello\":\n",
    "    if(i not in \"aeiou\"):\n",
    "        total+=1\n",
    "print(total)        "
   ]
  },
  {
   "cell_type": "code",
   "execution_count": 10,
   "id": "1ec8c90c",
   "metadata": {},
   "outputs": [
    {
     "name": "stdout",
     "output_type": "stream",
     "text": [
      "1\n",
      "*\n",
      "*\n",
      "*\n",
      "*\n",
      "2\n",
      "*\n",
      "*\n",
      "*\n",
      "*\n",
      "3\n",
      "*\n",
      "*\n",
      "*\n",
      "*\n",
      "4\n",
      "*\n",
      "*\n",
      "*\n",
      "*\n"
     ]
    }
   ],
   "source": [
    "for i  in range(1,5):\n",
    "    print(i)\n",
    "    \n",
    "    for j in range(1,5):\n",
    "        print(\"*\")"
   ]
  },
  {
   "cell_type": "code",
   "execution_count": 12,
   "id": "0e8c2482",
   "metadata": {},
   "outputs": [
    {
     "name": "stdout",
     "output_type": "stream",
     "text": [
      "****\n",
      "****\n",
      "****\n",
      "****\n"
     ]
    }
   ],
   "source": [
    "for i  in range(1,5):\n",
    "    \n",
    "    \n",
    "    for j in range(1,5):\n",
    "        print(\"*\",end=\"\")\n",
    "    print()    "
   ]
  },
  {
   "cell_type": "code",
   "execution_count": 16,
   "id": "e8392748",
   "metadata": {},
   "outputs": [
    {
     "name": "stdout",
     "output_type": "stream",
     "text": [
      "12345\n",
      "12345\n",
      "12345\n"
     ]
    }
   ],
   "source": [
    "for i  in range(1,4):\n",
    "    \n",
    "    \n",
    "    for j in range(1,6):\n",
    "        print(j,end=\"\")\n",
    "    print()    "
   ]
  },
  {
   "cell_type": "code",
   "execution_count": 20,
   "id": "b6da5107",
   "metadata": {},
   "outputs": [
    {
     "name": "stdout",
     "output_type": "stream",
     "text": [
      "54321\n",
      "54321\n",
      "54321\n"
     ]
    }
   ],
   "source": [
    "for i  in range(1,4):\n",
    "    \n",
    "    \n",
    "    for j in range(5,0,-1):\n",
    "        print(j,end=\"\")\n",
    "    print()    "
   ]
  },
  {
   "cell_type": "code",
   "execution_count": 22,
   "id": "66c1d388",
   "metadata": {},
   "outputs": [
    {
     "name": "stdout",
     "output_type": "stream",
     "text": [
      "1111\n",
      "2222\n",
      "3333\n",
      "4444\n",
      "5555\n"
     ]
    }
   ],
   "source": [
    "for i  in range(1,6):\n",
    "    \n",
    "    \n",
    "    for j in range(1,5):\n",
    "        print(i,end=\"\")\n",
    "    print()    "
   ]
  },
  {
   "cell_type": "code",
   "execution_count": 24,
   "id": "5f082979",
   "metadata": {},
   "outputs": [
    {
     "name": "stdout",
     "output_type": "stream",
     "text": [
      "*\n",
      "**\n",
      "***\n",
      "****\n",
      "\n"
     ]
    }
   ],
   "source": [
    "for i in range(1,5):\n",
    "    print(\"*\"*i)\n",
    "print()    \n",
    "    "
   ]
  },
  {
   "cell_type": "code",
   "execution_count": 25,
   "id": "d279568d",
   "metadata": {},
   "outputs": [
    {
     "name": "stdout",
     "output_type": "stream",
     "text": [
      "*****\n",
      "****\n",
      "***\n",
      "**\n",
      "*\n",
      "\n"
     ]
    }
   ],
   "source": [
    "for i in range(5,0,-1):\n",
    "    print(\"*\"*i)\n",
    "print()    \n",
    "    "
   ]
  },
  {
   "cell_type": "code",
   "execution_count": 28,
   "id": "94577af4",
   "metadata": {},
   "outputs": [
    {
     "name": "stdout",
     "output_type": "stream",
     "text": [
      "*\n",
      "**\n",
      "***\n",
      "****\n",
      "\n"
     ]
    }
   ],
   "source": [
    "for i in range(1,5):\n",
    "    print(\"*\"*i)\n",
    "print()    "
   ]
  },
  {
   "cell_type": "code",
   "execution_count": null,
   "id": "8bfb3080",
   "metadata": {},
   "outputs": [],
   "source": [
    "#take a input string from user and check based on following condition\n",
    "#string have min 3 capital letter\n",
    "#string have min 3  small letter\n",
    "#have min 1 number\n",
    "#have min lenth 5 to 15 char\n",
    "#have special char like #@!\n",
    "#do not use  any  method"
   ]
  },
  {
   "cell_type": "code",
   "execution_count": 5,
   "id": "5a54e9ee",
   "metadata": {},
   "outputs": [
    {
     "name": "stdout",
     "output_type": "stream",
     "text": [
      "enter no.11\n",
      "prime\n"
     ]
    }
   ],
   "source": [
    "#take a interger no. from user and we need to find out no. is prime or not\n",
    "\n",
    "n=int(input(\"enter no.\"))\n",
    "for i  in range(2,n):\n",
    "    if(n%i==0):\n",
    "        count=0\n",
    "        break\n",
    "    else:\n",
    "        count=1\n",
    "if(count==0):\n",
    "    print(\"not prime\")\n",
    "else:\n",
    "    print(\"prime\")"
   ]
  },
  {
   "cell_type": "code",
   "execution_count": 2,
   "id": "0e677911",
   "metadata": {},
   "outputs": [
    {
     "name": "stdout",
     "output_type": "stream",
     "text": [
      "Enter a string: jalajSharma34@\n",
      "Invalid string.\n"
     ]
    }
   ],
   "source": [
    "def has_capitals(string):\n",
    "    count = 0\n",
    "    for char in string:\n",
    "        if 'A' <= char <= 'Z':\n",
    "            count += 1\n",
    "            if count >= 3:\n",
    "                return True\n",
    "    return False\n",
    "\n",
    "def has_lower(string):\n",
    "    count = 0\n",
    "    for char in string:\n",
    "        if 'a' <= char <= 'z':\n",
    "            count += 1\n",
    "            if count >= 2:\n",
    "                return True\n",
    "    return False\n",
    "\n",
    "def has_number(string):\n",
    "    for char in string:\n",
    "        if char.isdigit():\n",
    "            return True\n",
    "    return False\n",
    "\n",
    "def has_special(string):\n",
    "    special_chars = set('#@!')\n",
    "    for char in string:\n",
    "        if char in special_chars:\n",
    "            return True\n",
    "    return False\n",
    "\n",
    "def is_valid(string):\n",
    "    if 5 <= len(string) <= 15:\n",
    "        if has_capitals(string) and has_lower(string) and has_number(string) and has_special(string):\n",
    "            return True\n",
    "    return False\n",
    "\n",
    "user_input = input(\"Enter a string: \")\n",
    "if is_valid(user_input):\n",
    "    print(\"Valid string!\")\n",
    "else:\n",
    "    print(\"Invalid string.\")"
   ]
  },
  {
   "cell_type": "code",
   "execution_count": 1,
   "id": "c3d4cb49",
   "metadata": {},
   "outputs": [
    {
     "name": "stdout",
     "output_type": "stream",
     "text": [
      "1\n",
      "12\n",
      "123\n",
      "1234\n"
     ]
    }
   ],
   "source": [
    "for i in range(1, 5):\n",
    "    for j in range(1, i + 1):\n",
    "        print(j, end='')\n",
    "    print()"
   ]
  },
  {
   "cell_type": "code",
   "execution_count": 3,
   "id": "3b3cc66a",
   "metadata": {},
   "outputs": [
    {
     "name": "stdout",
     "output_type": "stream",
     "text": [
      "1 \n",
      "2 3 \n",
      "4 5 6 \n",
      "7 8 9 10 \n"
     ]
    }
   ],
   "source": [
    "n = 1\n",
    "for i in range(1, 5):\n",
    "    for j in range(1, i + 1):\n",
    "        print(n, end=\" \")\n",
    "        n += 1\n",
    "    print()    "
   ]
  },
  {
   "cell_type": "code",
   "execution_count": 4,
   "id": "b41e2265",
   "metadata": {},
   "outputs": [
    {
     "name": "stdout",
     "output_type": "stream",
     "text": [
      "10 \n",
      "9 8 \n",
      "7 6 5 \n",
      "4 3 2 1 \n"
     ]
    }
   ],
   "source": [
    "n = 10\n",
    "for i in range(1, 5):\n",
    "    for j in range(1, i + 1):\n",
    "        print(n, end=\" \")\n",
    "        n -= 1\n",
    "    print()    "
   ]
  },
  {
   "cell_type": "code",
   "execution_count": 8,
   "id": "05cb7b1a",
   "metadata": {},
   "outputs": [
    {
     "name": "stdout",
     "output_type": "stream",
     "text": [
      "A \n",
      "A B \n",
      "A B C \n",
      "A B C D \n"
     ]
    }
   ],
   "source": [
    "for i in range(65,69):\n",
    "    for j in range(65, i + 1):\n",
    "        print(chr(j), end=\" \")\n",
    "    print()    "
   ]
  },
  {
   "cell_type": "code",
   "execution_count": 9,
   "id": "34a652c9",
   "metadata": {},
   "outputs": [
    {
     "name": "stdout",
     "output_type": "stream",
     "text": [
      "A \n",
      "B C \n",
      "D E F \n",
      "G H I J \n"
     ]
    }
   ],
   "source": [
    "n=65\n",
    "for i in range(65,69):\n",
    "    for j in range(65, i + 1):\n",
    "        print(chr(n), end=\" \")\n",
    "        n+=1\n",
    "    print()    "
   ]
  },
  {
   "cell_type": "code",
   "execution_count": 12,
   "id": "bcb3f33e",
   "metadata": {},
   "outputs": [
    {
     "name": "stdout",
     "output_type": "stream",
     "text": [
      "Z \n",
      "X V \n",
      "T R P \n",
      "N L J H \n"
     ]
    }
   ],
   "source": [
    "n = 90\n",
    "for i in range(1, 5):\n",
    "    for j in range(1, i + 1):\n",
    "        print(chr(n), end=\" \")\n",
    "        n -= \n",
    "    print()    "
   ]
  },
  {
   "cell_type": "code",
   "execution_count": 14,
   "id": "dd36c7c6",
   "metadata": {},
   "outputs": [
    {
     "name": "stdout",
     "output_type": "stream",
     "text": [
      "*****\n",
      "**\n",
      "* *\n",
      "*  *\n",
      "*****\n"
     ]
    }
   ],
   "source": [
    "rows = 5\n",
    "\n",
    "for i in range(rows):\n",
    "    if i == 0 or i == rows - 1:\n",
    "        print(\"*\" * rows)\n",
    "    else:\n",
    "        print(\"*\" + \" \" * (i - 1) + \"*\")\n"
   ]
  },
  {
   "cell_type": "code",
   "execution_count": 19,
   "id": "b464c160",
   "metadata": {},
   "outputs": [
    {
     "name": "stdout",
     "output_type": "stream",
     "text": [
      "* \n",
      "* * \n",
      "*   * \n",
      "*     * \n",
      "* * * * * \n"
     ]
    }
   ],
   "source": [
    "\n",
    "rows = 5\n",
    "\n",
    "\n",
    "for i in range(rows):\n",
    "    \n",
    "    for j in range(i + 1):\n",
    "        \n",
    "        if j == 0 or j == i or i == rows - 1:\n",
    "            print(\"*\", end=\" \")\n",
    "        else:\n",
    "            \n",
    "            print(\" \", end=\" \")\n",
    "    print()  \n"
   ]
  },
  {
   "cell_type": "code",
   "execution_count": 17,
   "id": "38e00ab7",
   "metadata": {},
   "outputs": [
    {
     "name": "stdout",
     "output_type": "stream",
     "text": [
      "1 \n",
      "2 a \n",
      "3 b 4 \n",
      "5 c 6 d \n",
      "7 e 8 f 9 \n"
     ]
    }
   ],
   "source": [
    "num = 1\n",
    "char = ord('a')\n",
    "\n",
    "\n",
    "for i in range(1, 6):\n",
    "    \n",
    "    for j in range(1, i + 1):\n",
    "        \n",
    "        if j % 2 != 0:\n",
    "            print(num, end=\" \")\n",
    "            num += 1\n",
    "        \n",
    "        else:\n",
    "            print(chr(char), end=\" \")\n",
    "            char += 1\n",
    "    print()  \n"
   ]
  },
  {
   "cell_type": "code",
   "execution_count": 1,
   "id": "4f71d844",
   "metadata": {},
   "outputs": [
    {
     "name": "stdout",
     "output_type": "stream",
     "text": [
      "A  1  \n",
      "B  2  C  3  \n",
      "D  4  E  5  F  6  \n",
      "G  7  H  8  I  9  J  10  \n"
     ]
    }
   ],
   "source": [
    "alpa=65\n",
    "num=1\n",
    "for i in range(1,5):\n",
    "    for j in range(1,i+1):\n",
    "        print(chr(alpa),' ',end='')\n",
    "        print(num,' ',end='')\n",
    "        alpa+=1\n",
    "        num+=1\n",
    "    print()"
   ]
  }
 ],
 "metadata": {
  "kernelspec": {
   "display_name": "Python 3 (ipykernel)",
   "language": "python",
   "name": "python3"
  },
  "language_info": {
   "codemirror_mode": {
    "name": "ipython",
    "version": 3
   },
   "file_extension": ".py",
   "mimetype": "text/x-python",
   "name": "python",
   "nbconvert_exporter": "python",
   "pygments_lexer": "ipython3",
   "version": "3.9.13"
  }
 },
 "nbformat": 4,
 "nbformat_minor": 5
}
