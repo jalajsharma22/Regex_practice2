{
 "cells": [
  {
   "cell_type": "code",
   "execution_count": 2,
   "id": "e5a4c925",
   "metadata": {},
   "outputs": [
    {
     "name": "stdout",
     "output_type": "stream",
     "text": [
      "<class 'list'>\n"
     ]
    }
   ],
   "source": [
    "#list  : collection of elements, which has index position\n",
    "#mutable datatype\n",
    "#ordered collection\n",
    "\n",
    "mylist = [10,20,\"jalaj\"]\n",
    "print(type(mylist))"
   ]
  },
  {
   "cell_type": "code",
   "execution_count": 6,
   "id": "29b9e79b",
   "metadata": {},
   "outputs": [
    {
     "name": "stdout",
     "output_type": "stream",
     "text": [
      "[10, 20, 'jalaj', 50, 50, 50]\n"
     ]
    }
   ],
   "source": [
    "mylist.append(50)\n",
    "print(mylist)"
   ]
  },
  {
   "cell_type": "code",
   "execution_count": 7,
   "id": "d89a3eba",
   "metadata": {},
   "outputs": [
    {
     "name": "stdout",
     "output_type": "stream",
     "text": [
      "[10, 20, 'jalaj', 50, 50, 50, 'hey', 99]\n"
     ]
    }
   ],
   "source": [
    "mylist.extend([\"hey\",99])\n",
    "print(mylist)"
   ]
  },
  {
   "cell_type": "code",
   "execution_count": 8,
   "id": "8a1fdbed",
   "metadata": {},
   "outputs": [
    {
     "name": "stdout",
     "output_type": "stream",
     "text": [
      "Help on list object:\n",
      "\n",
      "class list(object)\n",
      " |  list(iterable=(), /)\n",
      " |  \n",
      " |  Built-in mutable sequence.\n",
      " |  \n",
      " |  If no argument is given, the constructor creates a new empty list.\n",
      " |  The argument must be an iterable if specified.\n",
      " |  \n",
      " |  Methods defined here:\n",
      " |  \n",
      " |  __add__(self, value, /)\n",
      " |      Return self+value.\n",
      " |  \n",
      " |  __contains__(self, key, /)\n",
      " |      Return key in self.\n",
      " |  \n",
      " |  __delitem__(self, key, /)\n",
      " |      Delete self[key].\n",
      " |  \n",
      " |  __eq__(self, value, /)\n",
      " |      Return self==value.\n",
      " |  \n",
      " |  __ge__(self, value, /)\n",
      " |      Return self>=value.\n",
      " |  \n",
      " |  __getattribute__(self, name, /)\n",
      " |      Return getattr(self, name).\n",
      " |  \n",
      " |  __getitem__(...)\n",
      " |      x.__getitem__(y) <==> x[y]\n",
      " |  \n",
      " |  __gt__(self, value, /)\n",
      " |      Return self>value.\n",
      " |  \n",
      " |  __iadd__(self, value, /)\n",
      " |      Implement self+=value.\n",
      " |  \n",
      " |  __imul__(self, value, /)\n",
      " |      Implement self*=value.\n",
      " |  \n",
      " |  __init__(self, /, *args, **kwargs)\n",
      " |      Initialize self.  See help(type(self)) for accurate signature.\n",
      " |  \n",
      " |  __iter__(self, /)\n",
      " |      Implement iter(self).\n",
      " |  \n",
      " |  __le__(self, value, /)\n",
      " |      Return self<=value.\n",
      " |  \n",
      " |  __len__(self, /)\n",
      " |      Return len(self).\n",
      " |  \n",
      " |  __lt__(self, value, /)\n",
      " |      Return self<value.\n",
      " |  \n",
      " |  __mul__(self, value, /)\n",
      " |      Return self*value.\n",
      " |  \n",
      " |  __ne__(self, value, /)\n",
      " |      Return self!=value.\n",
      " |  \n",
      " |  __repr__(self, /)\n",
      " |      Return repr(self).\n",
      " |  \n",
      " |  __reversed__(self, /)\n",
      " |      Return a reverse iterator over the list.\n",
      " |  \n",
      " |  __rmul__(self, value, /)\n",
      " |      Return value*self.\n",
      " |  \n",
      " |  __setitem__(self, key, value, /)\n",
      " |      Set self[key] to value.\n",
      " |  \n",
      " |  __sizeof__(self, /)\n",
      " |      Return the size of the list in memory, in bytes.\n",
      " |  \n",
      " |  append(self, object, /)\n",
      " |      Append object to the end of the list.\n",
      " |  \n",
      " |  clear(self, /)\n",
      " |      Remove all items from list.\n",
      " |  \n",
      " |  copy(self, /)\n",
      " |      Return a shallow copy of the list.\n",
      " |  \n",
      " |  count(self, value, /)\n",
      " |      Return number of occurrences of value.\n",
      " |  \n",
      " |  extend(self, iterable, /)\n",
      " |      Extend list by appending elements from the iterable.\n",
      " |  \n",
      " |  index(self, value, start=0, stop=9223372036854775807, /)\n",
      " |      Return first index of value.\n",
      " |      \n",
      " |      Raises ValueError if the value is not present.\n",
      " |  \n",
      " |  insert(self, index, object, /)\n",
      " |      Insert object before index.\n",
      " |  \n",
      " |  pop(self, index=-1, /)\n",
      " |      Remove and return item at index (default last).\n",
      " |      \n",
      " |      Raises IndexError if list is empty or index is out of range.\n",
      " |  \n",
      " |  remove(self, value, /)\n",
      " |      Remove first occurrence of value.\n",
      " |      \n",
      " |      Raises ValueError if the value is not present.\n",
      " |  \n",
      " |  reverse(self, /)\n",
      " |      Reverse *IN PLACE*.\n",
      " |  \n",
      " |  sort(self, /, *, key=None, reverse=False)\n",
      " |      Sort the list in ascending order and return None.\n",
      " |      \n",
      " |      The sort is in-place (i.e. the list itself is modified) and stable (i.e. the\n",
      " |      order of two equal elements is maintained).\n",
      " |      \n",
      " |      If a key function is given, apply it once to each list item and sort them,\n",
      " |      ascending or descending, according to their function values.\n",
      " |      \n",
      " |      The reverse flag can be set to sort in descending order.\n",
      " |  \n",
      " |  ----------------------------------------------------------------------\n",
      " |  Class methods defined here:\n",
      " |  \n",
      " |  __class_getitem__(...) from builtins.type\n",
      " |      See PEP 585\n",
      " |  \n",
      " |  ----------------------------------------------------------------------\n",
      " |  Static methods defined here:\n",
      " |  \n",
      " |  __new__(*args, **kwargs) from builtins.type\n",
      " |      Create and return a new object.  See help(type) for accurate signature.\n",
      " |  \n",
      " |  ----------------------------------------------------------------------\n",
      " |  Data and other attributes defined here:\n",
      " |  \n",
      " |  __hash__ = None\n",
      "\n"
     ]
    }
   ],
   "source": [
    "help(mylist)"
   ]
  },
  {
   "cell_type": "code",
   "execution_count": 13,
   "id": "e0420881",
   "metadata": {},
   "outputs": [
    {
     "name": "stdout",
     "output_type": "stream",
     "text": [
      "[10, 20, 'jalaj', 50]\n",
      "[10, 20, 'jalaj']\n"
     ]
    }
   ],
   "source": [
    "print(mylist)\n",
    "mylist.pop()\n",
    "print(mylist)"
   ]
  },
  {
   "cell_type": "code",
   "execution_count": 16,
   "id": "81ac0a9b",
   "metadata": {},
   "outputs": [
    {
     "name": "stdout",
     "output_type": "stream",
     "text": [
      "[10, 20]\n"
     ]
    },
    {
     "ename": "ValueError",
     "evalue": "list.remove(x): x not in list",
     "output_type": "error",
     "traceback": [
      "\u001b[1;31m---------------------------------------------------------------------------\u001b[0m",
      "\u001b[1;31mValueError\u001b[0m                                Traceback (most recent call last)",
      "\u001b[1;32m~\\AppData\\Local\\Temp\\ipykernel_5464\\2233382356.py\u001b[0m in \u001b[0;36m<module>\u001b[1;34m\u001b[0m\n\u001b[0;32m      1\u001b[0m \u001b[0mprint\u001b[0m\u001b[1;33m(\u001b[0m\u001b[0mmylist\u001b[0m\u001b[1;33m)\u001b[0m\u001b[1;33m\u001b[0m\u001b[1;33m\u001b[0m\u001b[0m\n\u001b[1;32m----> 2\u001b[1;33m \u001b[0mmylist\u001b[0m\u001b[1;33m.\u001b[0m\u001b[0mremove\u001b[0m\u001b[1;33m(\u001b[0m\u001b[1;34m\"jalaj\"\u001b[0m\u001b[1;33m)\u001b[0m\u001b[1;33m\u001b[0m\u001b[1;33m\u001b[0m\u001b[0m\n\u001b[0m\u001b[0;32m      3\u001b[0m \u001b[0mprint\u001b[0m\u001b[1;33m(\u001b[0m\u001b[0mmylist\u001b[0m\u001b[1;33m)\u001b[0m\u001b[1;33m\u001b[0m\u001b[1;33m\u001b[0m\u001b[0m\n",
      "\u001b[1;31mValueError\u001b[0m: list.remove(x): x not in list"
     ]
    }
   ],
   "source": [
    "print(mylist)\n",
    "mylist.remove(\"jalaj\")\n",
    "print(mylist)"
   ]
  },
  {
   "cell_type": "code",
   "execution_count": 17,
   "id": "44bf2812",
   "metadata": {},
   "outputs": [
    {
     "name": "stdout",
     "output_type": "stream",
     "text": [
      "[10, 20]\n",
      "[10]\n"
     ]
    }
   ],
   "source": [
    "print(mylist)\n",
    "del mylist[1]\n",
    "print(mylist)"
   ]
  },
  {
   "cell_type": "code",
   "execution_count": 19,
   "id": "8481b022",
   "metadata": {},
   "outputs": [
    {
     "name": "stdout",
     "output_type": "stream",
     "text": [
      "10\n",
      "20\n",
      "300\n",
      "hey\n",
      "11.5\n"
     ]
    }
   ],
   "source": [
    "mylist=[10,20,300,\"hey\",11.5]\n",
    "for var in mylist:\n",
    "    print(var)"
   ]
  },
  {
   "cell_type": "code",
   "execution_count": 25,
   "id": "619baf64",
   "metadata": {},
   "outputs": [
    {
     "name": "stdout",
     "output_type": "stream",
     "text": [
      "[10, 20, 300]\n"
     ]
    }
   ],
   "source": [
    "#check if element is of integer type then square it apend it in new list\n",
    "mylist = [10,20,300,'hey',11.3]\n",
    "new = []\n",
    "for i in mylist:\n",
    "    if (type(i) is int):\n",
    "        new.append(i)\n",
    "print(new)"
   ]
  },
  {
   "cell_type": "code",
   "execution_count": 27,
   "id": "44f65887",
   "metadata": {},
   "outputs": [
    {
     "name": "stdout",
     "output_type": "stream",
     "text": [
      "Enter a number : 12\n",
      "not\n"
     ]
    }
   ],
   "source": [
    "original=int(input(\"Enter a number : \"))\n",
    "num=original\n",
    "\n",
    "total=0\n",
    "while(num>0):\n",
    "    rem=num%10\n",
    "    total+=rem**3\n",
    "    num=num//10\n",
    "if(total == original):\n",
    "    print(\"armstrong\")\n",
    "else:\n",
    "    print(\"not\")"
   ]
  },
  {
   "cell_type": "code",
   "execution_count": 28,
   "id": "f7ba63a8",
   "metadata": {},
   "outputs": [
    {
     "name": "stdout",
     "output_type": "stream",
     "text": [
      "<class 'int'>\n"
     ]
    }
   ],
   "source": [
    "#tuple\n",
    "#immutable\n",
    "\n",
    "mytuple=10\n",
    "print(type(mytuple))"
   ]
  },
  {
   "cell_type": "code",
   "execution_count": 29,
   "id": "6756e1bd",
   "metadata": {},
   "outputs": [
    {
     "name": "stdout",
     "output_type": "stream",
     "text": [
      "<class 'tuple'>\n"
     ]
    }
   ],
   "source": [
    "mytuple=(10,20)\n",
    "print(type(mytuple))"
   ]
  },
  {
   "cell_type": "code",
   "execution_count": 33,
   "id": "c45c0a74",
   "metadata": {},
   "outputs": [
    {
     "name": "stdout",
     "output_type": "stream",
     "text": [
      "(10, 20, 60, 70)\n"
     ]
    }
   ],
   "source": [
    "mytuple=(10,20)\n",
    "mytuple=mytuple+(60,70)\n",
    "print(mytuple)"
   ]
  },
  {
   "cell_type": "code",
   "execution_count": null,
   "id": "55945a5b",
   "metadata": {},
   "outputs": [],
   "source": [
    "#Dictonary  :  collection of element in for of key:value pairs\n",
    "#key:identifiers\n",
    "#value is data\n",
    "#orderd collection of  elements\n",
    "#do not have index value\n"
   ]
  },
  {
   "cell_type": "code",
   "execution_count": 34,
   "id": "1fcc03d7",
   "metadata": {},
   "outputs": [],
   "source": [
    "mydic={10:\"jalaj\",20:\"sharma\"}\n"
   ]
  },
  {
   "cell_type": "code",
   "execution_count": 35,
   "id": "e5e62c80",
   "metadata": {},
   "outputs": [
    {
     "data": {
      "text/plain": [
       "{10: 'jalaj', 20: 'sharma'}"
      ]
     },
     "execution_count": 35,
     "metadata": {},
     "output_type": "execute_result"
    }
   ],
   "source": [
    "mydic"
   ]
  },
  {
   "cell_type": "code",
   "execution_count": 36,
   "id": "e256cfe2",
   "metadata": {},
   "outputs": [
    {
     "name": "stdout",
     "output_type": "stream",
     "text": [
      "{10: 'deepak', 20: 'sharma'}\n"
     ]
    }
   ],
   "source": [
    "mydic[10]=\"deepak\"\n",
    "print(mydic)"
   ]
  },
  {
   "cell_type": "code",
   "execution_count": 37,
   "id": "f99ce132",
   "metadata": {},
   "outputs": [
    {
     "name": "stdout",
     "output_type": "stream",
     "text": [
      "{10: 'deepak', 20: 'sharma', 30: 'deepak'}\n"
     ]
    }
   ],
   "source": [
    "mydic[30]=\"deepak\"\n",
    "print(mydic)"
   ]
  },
  {
   "cell_type": "code",
   "execution_count": 40,
   "id": "89b187c8",
   "metadata": {},
   "outputs": [
    {
     "name": "stdout",
     "output_type": "stream",
     "text": [
      "{20: 'sharma', 30: 'deepak'}\n",
      "{20: 'sharma', 30: 'deepak'}\n",
      "x  is deepak\n"
     ]
    }
   ],
   "source": [
    "print(mydic)\n",
    "\n",
    "#x=mydic.pop(10)\n",
    "print(mydic)\n",
    "print(\"x  is\",x)"
   ]
  },
  {
   "cell_type": "code",
   "execution_count": 41,
   "id": "e529ed26",
   "metadata": {},
   "outputs": [
    {
     "name": "stdout",
     "output_type": "stream",
     "text": [
      "{'h': 1, 'e': 1, 'l': 1, 'o': 1}\n"
     ]
    }
   ],
   "source": [
    "mydic={}\n",
    "for char in \"hello\":\n",
    "    mydic[char]=1\n",
    "print(mydic)    "
   ]
  },
  {
   "cell_type": "code",
   "execution_count": 42,
   "id": "69499035",
   "metadata": {},
   "outputs": [
    {
     "data": {
      "text/plain": [
       "True"
      ]
     },
     "execution_count": 42,
     "metadata": {},
     "output_type": "execute_result"
    }
   ],
   "source": [
    "mydic={10:\"jalaj\",20:\"sharma\"}\n",
    "20 in mydic"
   ]
  },
  {
   "cell_type": "code",
   "execution_count": 44,
   "id": "ba978033",
   "metadata": {},
   "outputs": [
    {
     "name": "stdout",
     "output_type": "stream",
     "text": [
      "{'e': 2, 'a': 2, 'o': 1}\n"
     ]
    }
   ],
   "source": [
    "mydic={}\n",
    "s=\"hey jalaj hello\"\n",
    "for i in s:\n",
    "    if(i in \"aeiou\"):\n",
    "        if i not in mydic:\n",
    "            mydic[i]=1\n",
    "        else:\n",
    "            mydic[i]=mydic[i]+1\n",
    "            \n",
    "print(mydic)    \n",
    "    \n"
   ]
  },
  {
   "cell_type": "code",
   "execution_count": 1,
   "id": "348580e0",
   "metadata": {},
   "outputs": [
    {
     "name": "stdout",
     "output_type": "stream",
     "text": [
      "1234*\n",
      "567**\n",
      "89***\n"
     ]
    }
   ],
   "source": [
    "k=1\n",
    "for i in range(1,4):\n",
    "    for j in range(i,5):\n",
    "        print(k,end='')\n",
    "        k+=1\n",
    "    print(\"*\"*i,end='')\n",
    "    print()"
   ]
  },
  {
   "cell_type": "code",
   "execution_count": 2,
   "id": "3a5dacc1",
   "metadata": {},
   "outputs": [
    {
     "name": "stdout",
     "output_type": "stream",
     "text": [
      "ABCD1\n",
      "ABC12\n",
      "AB123\n",
      "A1234\n"
     ]
    }
   ],
   "source": [
    "for i in range(1,5):\n",
    "    k=65\n",
    "    for j in range(i,5):\n",
    "        print(chr(k),end='')\n",
    "        k+=1\n",
    "    for l in range (1,i+1):\n",
    "        print(l,end='')\n",
    "    print()"
   ]
  },
  {
   "cell_type": "code",
   "execution_count": 3,
   "id": "688cd525",
   "metadata": {},
   "outputs": [
    {
     "name": "stdout",
     "output_type": "stream",
     "text": [
      "    A\n",
      "   BC\n",
      "  DEF\n",
      " GHIJ\n"
     ]
    }
   ],
   "source": [
    "k=65\n",
    "for i in range(1,5):\n",
    "    for j in range(i,5):\n",
    "        print(\" \",end='')\n",
    "    for l in range (1,i+1):\n",
    "        print(chr(k),end='')\n",
    "        k+=1\n",
    "    print()"
   ]
  },
  {
   "cell_type": "code",
   "execution_count": 4,
   "id": "aad177c4",
   "metadata": {},
   "outputs": [
    {
     "name": "stdout",
     "output_type": "stream",
     "text": [
      " *******\n",
      "  *****\n",
      "   ***\n",
      "    *\n"
     ]
    }
   ],
   "source": [
    "for i in range(1,5):\n",
    "    for j in range(1,i+1):\n",
    "        print(' ',end='')\n",
    "    for j in range(i,5):\n",
    "        print(\"*\",end='')\n",
    "    for j in range(i,4):\n",
    "        print('*',end='')\n",
    "    print()\n"
   ]
  },
  {
   "cell_type": "code",
   "execution_count": 5,
   "id": "71b86c96",
   "metadata": {},
   "outputs": [
    {
     "name": "stdout",
     "output_type": "stream",
     "text": [
      "A B C D 1 \n",
      "E F G 2 3 \n",
      "H I 4 5 6 \n",
      "J 7 8 9 10 \n"
     ]
    }
   ],
   "source": [
    "k=65\n",
    "m=1\n",
    "for i in range(1,5):\n",
    "    for j in range(i,5):\n",
    "        print(chr(k),'',end='')\n",
    "        k+=1\n",
    "    for l in range (1,i+1):\n",
    "        print(m,'',end='')\n",
    "        m+=1\n",
    "    print()"
   ]
  }
 ],
 "metadata": {
  "kernelspec": {
   "display_name": "Python 3 (ipykernel)",
   "language": "python",
   "name": "python3"
  },
  "language_info": {
   "codemirror_mode": {
    "name": "ipython",
    "version": 3
   },
   "file_extension": ".py",
   "mimetype": "text/x-python",
   "name": "python",
   "nbconvert_exporter": "python",
   "pygments_lexer": "ipython3",
   "version": "3.9.13"
  }
 },
 "nbformat": 4,
 "nbformat_minor": 5
}
