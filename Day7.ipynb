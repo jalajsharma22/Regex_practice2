{
 "cells": [
  {
   "cell_type": "markdown",
   "id": "374f9f0b",
   "metadata": {},
   "source": [
    "### Polymorphism"
   ]
  },
  {
   "cell_type": "code",
   "execution_count": 1,
   "id": "6dbba086",
   "metadata": {},
   "outputs": [
    {
     "data": {
      "text/plain": [
       "3"
      ]
     },
     "execution_count": 1,
     "metadata": {},
     "output_type": "execute_result"
    }
   ],
   "source": [
    "# many forms\n",
    "1+2"
   ]
  },
  {
   "cell_type": "code",
   "execution_count": 2,
   "id": "3653a64c",
   "metadata": {},
   "outputs": [
    {
     "data": {
      "text/plain": [
       "'12'"
      ]
     },
     "execution_count": 2,
     "metadata": {},
     "output_type": "execute_result"
    }
   ],
   "source": [
    "'1'+'2'"
   ]
  },
  {
   "cell_type": "code",
   "execution_count": 8,
   "id": "72aec991",
   "metadata": {},
   "outputs": [
    {
     "name": "stdout",
     "output_type": "stream",
     "text": [
      "this is vehcile class\n"
     ]
    }
   ],
   "source": [
    "#Overloading is not supported in python but supported in java\n",
    "class Vehcile:\n",
    "    def info(self):\n",
    "        print('this is vehcile class')\n",
    "    def info(self,x):\n",
    "        print('this is vehcile class')\n",
    "obj = Vehcile()\n",
    "obj.info(100)"
   ]
  },
  {
   "cell_type": "code",
   "execution_count": 10,
   "id": "f21d4fb3",
   "metadata": {},
   "outputs": [
    {
     "name": "stdout",
     "output_type": "stream",
     "text": [
      "this is vehcile class\n"
     ]
    }
   ],
   "source": [
    "#Overriding is supported in python\n",
    "class Vehcile:\n",
    "    def info(self):\n",
    "        print('this is vehcile class')\n",
    "    def info(self):\n",
    "        print('this is vehcile class')\n",
    "obj = Vehcile()\n",
    "obj.info()"
   ]
  },
  {
   "cell_type": "code",
   "execution_count": 14,
   "id": "37b579ea",
   "metadata": {},
   "outputs": [
    {
     "name": "stdout",
     "output_type": "stream",
     "text": [
      "this is tata class\n"
     ]
    }
   ],
   "source": [
    "class Vehcile:\n",
    "    def info(self):\n",
    "        print('this is vehcile class')\n",
    "class TataMotors(Vehcile):\n",
    "    def tata(self):\n",
    "        print('this is tata class')\n",
    "t1 = TataMotors()\n",
    "# t1.info()\n",
    "t1.tata()"
   ]
  },
  {
   "cell_type": "code",
   "execution_count": 17,
   "id": "9b31d9d5",
   "metadata": {},
   "outputs": [
    {
     "name": "stdout",
     "output_type": "stream",
     "text": [
      "this is tata class\n"
     ]
    }
   ],
   "source": [
    "# polymorphism same functions\n",
    "class Vehcile:\n",
    "    def info(self):\n",
    "        print('this is vehcile class')\n",
    "class TataMotors(Vehcile):\n",
    "    def info(self):\n",
    "        print('this is tata class')\n",
    "t1 = TataMotors()\n",
    "# t1.info()\n",
    "t1.info()"
   ]
  },
  {
   "cell_type": "code",
   "execution_count": 27,
   "id": "80020a6d",
   "metadata": {},
   "outputs": [
    {
     "data": {
      "text/plain": [
       "hey class has value : 2"
      ]
     },
     "execution_count": 27,
     "metadata": {},
     "output_type": "execute_result"
    }
   ],
   "source": [
    "# repr change the representation of class\n",
    "class Employee:\n",
    "    def __init__(self, num1):\n",
    "        self.num1 =num1\n",
    "    def __repr__(self):\n",
    "        return f\"hey class has value : {self.num1}\"\n",
    "e1 = Employee(1)\n",
    "# e1\n",
    "Employee(2)\n"
   ]
  },
  {
   "cell_type": "code",
   "execution_count": 36,
   "id": "36666c8c",
   "metadata": {},
   "outputs": [
    {
     "name": "stdout",
     "output_type": "stream",
     "text": [
      "hey class has value : 1\n",
      "hey class has value : 2\n",
      "hello\n",
      " hey class has value : 1 hey class has value : 2 1 2\n"
     ]
    }
   ],
   "source": [
    "class Employee:\n",
    "    def __init__(self, num1):\n",
    "        self.num1 =num1\n",
    "    def __repr__(self):\n",
    "        return f\"hey class has value : {self.num1}\"\n",
    "    #x=e1 y=e2 \n",
    "    #polymorphism can be achieve by \n",
    "    #method overriding\n",
    "    #operator overloading\n",
    "    def __add__(x,y):\n",
    "        print('hello\\n', x, y, x.num1, y.num1)\n",
    "    \n",
    "e1 = Employee(1)\n",
    "e2 = Employee(2)\n",
    "print(e1)\n",
    "print(e2)\n",
    "\n",
    "# for def add func\n",
    "addd = e1 + e2\n",
    "# ==> e1.__add__(e2)"
   ]
  },
  {
   "cell_type": "code",
   "execution_count": 82,
   "id": "c3a390e1",
   "metadata": {},
   "outputs": [
    {
     "data": {
      "text/plain": [
       "True"
      ]
     },
     "execution_count": 82,
     "metadata": {},
     "output_type": "execute_result"
    }
   ],
   "source": [
    "# Q class => 2 instance\n",
    "# obj1>obj2 ( True yha False)\n",
    "#obj1.var + obj1.var2 > obj2.var return False else True\n",
    "\n",
    "class Employee:\n",
    "    def __init__(self, num1, num2):\n",
    "        self.num1 =num1\n",
    "        self.num2 =num2\n",
    "    def __repr__(self):\n",
    "        return f\"hey class has value : {self.num1}\"\n",
    "\n",
    "    def __gt__(self, obj):\n",
    "        if (self.num1 + self.num2 > obj.num1):\n",
    "            return False\n",
    "        else:\n",
    "            return True\n",
    "e1 = Employee(10,20)\n",
    "e2 = Employee(35,30)\n",
    "e1>e2"
   ]
  },
  {
   "cell_type": "code",
   "execution_count": 74,
   "id": "4301c33e",
   "metadata": {},
   "outputs": [
    {
     "data": {
      "text/plain": [
       "100"
      ]
     },
     "execution_count": 74,
     "metadata": {},
     "output_type": "execute_result"
    }
   ],
   "source": [
    "# Protected\n",
    "class Parents:\n",
    "    _amount =100\n",
    "p1 = Parents()\n",
    "p1._amount"
   ]
  },
  {
   "cell_type": "code",
   "execution_count": 78,
   "id": "417065f9",
   "metadata": {},
   "outputs": [
    {
     "data": {
      "text/plain": [
       "100"
      ]
     },
     "execution_count": 78,
     "metadata": {},
     "output_type": "execute_result"
    }
   ],
   "source": [
    "# private ==> __variable_name ==> _Class__variable\n",
    "class Parents:\n",
    "    __amount =100\n",
    "p1 = Parents()\n",
    "# p1._amount\n",
    "# p1.__amount\n",
    "p1._Parents__amount"
   ]
  },
  {
   "cell_type": "markdown",
   "id": "1c0364fa",
   "metadata": {},
   "source": [
    "## Practice question"
   ]
  },
  {
   "cell_type": "code",
   "execution_count": 89,
   "id": "173cbd2b",
   "metadata": {},
   "outputs": [
    {
     "name": "stdout",
     "output_type": "stream",
     "text": [
      "2\n",
      "1\n"
     ]
    }
   ],
   "source": [
    "# Q1 Swap the number without using third varible\n",
    "num1 = 1\n",
    "num2 = 2\n",
    "num1,num2 =num2,num1\n",
    "print(num1)\n",
    "print(num2)"
   ]
  },
  {
   "cell_type": "code",
   "execution_count": 107,
   "id": "aafa7ee7",
   "metadata": {},
   "outputs": [
    {
     "name": "stdout",
     "output_type": "stream",
     "text": [
      "6 3 5 7 "
     ]
    }
   ],
   "source": [
    "# Q2 : Write a Program to extract each digit from an integer in the reverse order.\n",
    "# For example, If the given int is 7536, the output shall be “6 3 5 7“, with a space separating the\n",
    "# digits.\n",
    "number = 7536\n",
    "string = str(number)[::-1]\n",
    "for char in string:\n",
    "    print(char,end=' ')\n"
   ]
  },
  {
   "cell_type": "code",
   "execution_count": 108,
   "id": "89c0069e",
   "metadata": {},
   "outputs": [
    {
     "name": "stdout",
     "output_type": "stream",
     "text": [
      "14\n"
     ]
    }
   ],
   "source": [
    "# Q3 Write a program that will give you the sum of 3 digits\n",
    "def add(a,b,c):\n",
    "    return a+b+c\n",
    "print(add(3,5,6))"
   ]
  },
  {
   "cell_type": "code",
   "execution_count": 109,
   "id": "1de53445",
   "metadata": {},
   "outputs": [
    {
     "name": "stdout",
     "output_type": "stream",
     "text": [
      "Enter num1 :2\n",
      "Enter num2 :3\n",
      "Enter num3 :4\n",
      "29\n"
     ]
    }
   ],
   "source": [
    "# Q4 Write a program that will take three digits from the user and add the square of each\n",
    "# digit.\n",
    "a = int(input('Enter num1 :'))\n",
    "b = int(input('Enter num2 :'))\n",
    "c = int(input('Enter num3 :'))\n",
    "print((a**2)+(b**2)+(c**2))"
   ]
  },
  {
   "cell_type": "code",
   "execution_count": 118,
   "id": "160d9667",
   "metadata": {},
   "outputs": [
    {
     "name": "stdout",
     "output_type": "stream",
     "text": [
      "enter a number to check it is armstrong or not : 153\n",
      "armstrong\n"
     ]
    }
   ],
   "source": [
    "# Q5 Write a program that will check whether the number is armstrong number or not.\n",
    "string = input(\"enter a number to check it is armstrong or not : \")\n",
    "pwr = len(string)\n",
    "result = 0\n",
    "for num in string:\n",
    "    result+=int(num)**pwr\n",
    "if result==number:\n",
    "    print(\"armstrong\")\n",
    "else:\n",
    "    print(\"not armstrong\")"
   ]
  },
  {
   "cell_type": "code",
   "execution_count": 140,
   "id": "cd5ac397",
   "metadata": {},
   "outputs": [
    {
     "name": "stdout",
     "output_type": "stream",
     "text": [
      "enter a number to check it is narcissist number or not : 1634\n",
      "narcissist\n"
     ]
    }
   ],
   "source": [
    "# Q6 :Write a program that will take user input of (4 digits number) and check whether the\n",
    "# number is narcissist number or not.\n",
    "string = input(\"enter a number to check it is narcissist number or not : \")\n",
    "number = int(string)\n",
    "pwr = (len(string))\n",
    "result = 0\n",
    "for num in string:\n",
    "    result+=int(num)**pwr\n",
    "if result==number:\n",
    "    print(\"narcissist\")\n",
    "else:\n",
    "    print(\"not narcissist\")"
   ]
  },
  {
   "cell_type": "code",
   "execution_count": 126,
   "id": "2df95ac2",
   "metadata": {},
   "outputs": [
    {
     "name": "stdout",
     "output_type": "stream",
     "text": [
      "Enter a float number: 12\n",
      "Formatted number: 12.00\n"
     ]
    }
   ],
   "source": [
    "# Q7 Display float number with 2 decimal places using print()\n",
    "num = float(input(\"Enter a float number: \"))\n",
    "print(f\"Formatted number: {num:.2f}\")\n"
   ]
  },
  {
   "cell_type": "code",
   "execution_count": 131,
   "id": "88bca4e8",
   "metadata": {},
   "outputs": [
    {
     "name": "stdout",
     "output_type": "stream",
     "text": [
      "Enter a number : 20\n",
      "Factor of number 20 is [1, 2, 4, 5, 10, 20]\n"
     ]
    }
   ],
   "source": [
    "# Q8 Print all factors of a given number provided by the user.\n",
    "num = int(input(\"Enter a number : \"))\n",
    "factor=[]\n",
    "for fac in range(1,num+1):\n",
    "    if num%fac==0:\n",
    "        factor.append(fac)\n",
    "print(f\"Factor of number {num} is {factor}\")"
   ]
  },
  {
   "cell_type": "code",
   "execution_count": 145,
   "id": "48073645",
   "metadata": {},
   "outputs": [
    {
     "name": "stdout",
     "output_type": "stream",
     "text": [
      "5\n",
      "3\n",
      "26\n",
      "5\n",
      "2\n",
      "Number are : [5.0, 3.0, 26.0, 5.0, 2.0]\n"
     ]
    }
   ],
   "source": [
    "# Q9 Accept a list of 5 float numbers as an input from the user\n",
    "List = []\n",
    "for data in range(5):\n",
    "    List.append(float(input()))\n",
    "print(f\"Number are : {List}\")"
   ]
  },
  {
   "cell_type": "code",
   "execution_count": 148,
   "id": "c683f981",
   "metadata": {},
   "outputs": [
    {
     "name": "stdout",
     "output_type": "stream",
     "text": [
      "Enter radius : 2\n",
      "Enter height : 3\n",
      "volume is : 37.68\n",
      "Enter the litre you have : 50\n",
      "Amount = 2000\n"
     ]
    }
   ],
   "source": [
    "# Q10 : Write a program to find the volume of the cylinder. Also find the cost when ,when the\n",
    "# cost of 1litre milk is 40Rs.\n",
    "\n",
    "r = int(input('Enter radius : '))\n",
    "h = int(input('Enter height : '))\n",
    "pi = 3.14\n",
    "vol = pi*r*r*h\n",
    "print(f'volume is : {vol}')\n",
    "liter = int(input(\"Enter the litre you have : \"))\n",
    "print(f'Amount = {liter*40}')"
   ]
  }
 ],
 "metadata": {
  "kernelspec": {
   "display_name": "Python 3 (ipykernel)",
   "language": "python",
   "name": "python3"
  },
  "language_info": {
   "codemirror_mode": {
    "name": "ipython",
    "version": 3
   },
   "file_extension": ".py",
   "mimetype": "text/x-python",
   "name": "python",
   "nbconvert_exporter": "python",
   "pygments_lexer": "ipython3",
   "version": "3.9.13"
  }
 },
 "nbformat": 4,
 "nbformat_minor": 5
}
