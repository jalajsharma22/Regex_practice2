{
 "cells": [
  {
   "cell_type": "markdown",
   "id": "b73f8c52",
   "metadata": {},
   "source": [
    "# introduction to Numpy"
   ]
  },
  {
   "cell_type": "code",
   "execution_count": 2,
   "id": "db8288df",
   "metadata": {},
   "outputs": [],
   "source": [
    "# why numpy is better than list ?\n",
    "# same data type ===> Array\n",
    "# memory consume ==> Numpy less, list high\n",
    "# computation power ==> numpy high, list less\n",
    "# functions ==> numpy high, listless"
   ]
  },
  {
   "cell_type": "code",
   "execution_count": 3,
   "id": "0324d458",
   "metadata": {},
   "outputs": [],
   "source": [
    "import numpy as np"
   ]
  },
  {
   "cell_type": "code",
   "execution_count": 5,
   "id": "748d591a",
   "metadata": {},
   "outputs": [
    {
     "data": {
      "text/plain": [
       "list"
      ]
     },
     "execution_count": 5,
     "metadata": {},
     "output_type": "execute_result"
    }
   ],
   "source": [
    "a = [1,23,78,90]\n",
    "type(a)"
   ]
  },
  {
   "cell_type": "code",
   "execution_count": 8,
   "id": "99e76124",
   "metadata": {},
   "outputs": [
    {
     "data": {
      "text/plain": [
       "array([ 1, 23, 78, 90])"
      ]
     },
     "execution_count": 8,
     "metadata": {},
     "output_type": "execute_result"
    }
   ],
   "source": [
    "b = np.array(a)\n",
    "type(b)\n",
    "b"
   ]
  },
  {
   "cell_type": "code",
   "execution_count": 13,
   "id": "04450657",
   "metadata": {},
   "outputs": [
    {
     "name": "stdout",
     "output_type": "stream",
     "text": [
      "Enter the number of element in list : 12\n",
      "Enter element 0 :365\n",
      "Enter element 1 :6652\n",
      "Enter element 2 :95\n",
      "Enter element 3 :55\n",
      "Enter element 4 :565\n",
      "Enter element 5 :35\n",
      "Enter element 6 :2\n",
      "Enter element 7 :2\n",
      "Enter element 8 :1\n",
      "Enter element 9 :22\n",
      "Enter element 10 :2\n",
      "Enter element 11 :2\n",
      "['365' '6652' '95' '55' '565' '35' '2' '2' '1' '22' '2' '2']\n"
     ]
    }
   ],
   "source": [
    "List = []\n",
    "length = int(input(\"Enter the number of element in list : \"))\n",
    "for i in range(length):\n",
    "    data = input(f\"Enter element {i} :\")\n",
    "    List.append(data)\n",
    "# print(List)2\n",
    "print(np.array(List))"
   ]
  },
  {
   "cell_type": "markdown",
   "id": "0d5be391",
   "metadata": {},
   "source": [
    "## How to check shape and size of an array"
   ]
  },
  {
   "cell_type": "code",
   "execution_count": 14,
   "id": "9dc4f4a8",
   "metadata": {},
   "outputs": [],
   "source": [
    "#shape = n(rows), n(columns)\n",
    "\n",
    "#size = total_elements ===> n(rows)*n(columns)"
   ]
  },
  {
   "cell_type": "code",
   "execution_count": 15,
   "id": "5740b855",
   "metadata": {},
   "outputs": [
    {
     "name": "stdout",
     "output_type": "stream",
     "text": [
      "Total Shape =  (4,)\n",
      "Total Size =  4\n"
     ]
    }
   ],
   "source": [
    "print('Total Shape = ' , b.shape)\n",
    "print('Total Size = ' , b.size)"
   ]
  },
  {
   "cell_type": "code",
   "execution_count": 18,
   "id": "1a96fba2",
   "metadata": {},
   "outputs": [
    {
     "data": {
      "text/plain": [
       "array([[1, 2, 3],\n",
       "       [4, 5, 6],\n",
       "       [7, 8, 9]])"
      ]
     },
     "execution_count": 18,
     "metadata": {},
     "output_type": "execute_result"
    }
   ],
   "source": [
    "a = [[1,2,3], [4,5,6], [7,8,9]]\n",
    "b = np.array(a)\n",
    "b"
   ]
  },
  {
   "cell_type": "code",
   "execution_count": 19,
   "id": "15b4e90e",
   "metadata": {},
   "outputs": [
    {
     "name": "stdout",
     "output_type": "stream",
     "text": [
      "Total Shape =  (3, 3)\n",
      "Total Size =  9\n"
     ]
    }
   ],
   "source": [
    "print('Total Shape = ' , b.shape)\n",
    "print('Total Size = ' , b.size)"
   ]
  },
  {
   "cell_type": "code",
   "execution_count": 20,
   "id": "ddc45020",
   "metadata": {},
   "outputs": [],
   "source": [
    "# Image ==> pixels ==> (0-225)px ==> 0px (complete black) , 255px (complete white)\n",
    "\n",
    "# Convert ==> grayscale Image \n",
    "# Image ==> pixels ==> Normalization (0-1) ==> 0px (complete black) , 1px (complete white)\n",
    "\n",
    "\n",
    "# 0 , 1 ===> Neuron System\n",
    "\n",
    "# Matrix ==> rows , columns\n",
    "\n",
    "# Symmatric matrix ===> n(rows) = n(columns)\n",
    "# Asymmatric matrix ===> n(rows) != n(columns)\n",
    "#Diagonal Elements = [(1,1), (2,2), (3,3), ....... (n,n) ]"
   ]
  },
  {
   "cell_type": "markdown",
   "id": "c67b4368",
   "metadata": {},
   "source": [
    "## (1) zeros()===> it will create an array in which all the element are zero."
   ]
  },
  {
   "cell_type": "code",
   "execution_count": 23,
   "id": "ce64a850",
   "metadata": {},
   "outputs": [
    {
     "data": {
      "text/plain": [
       "array([0., 0., 0., 0.])"
      ]
     },
     "execution_count": 23,
     "metadata": {},
     "output_type": "execute_result"
    }
   ],
   "source": [
    "a = np.zeros(4)\n",
    "a"
   ]
  },
  {
   "cell_type": "code",
   "execution_count": 26,
   "id": "bba87840",
   "metadata": {},
   "outputs": [
    {
     "data": {
      "text/plain": [
       "array([[0., 0., 0., 0.],\n",
       "       [0., 0., 0., 0.],\n",
       "       [0., 0., 0., 0.]])"
      ]
     },
     "execution_count": 26,
     "metadata": {},
     "output_type": "execute_result"
    }
   ],
   "source": [
    "a = np.zeros((3,4))\n",
    "a"
   ]
  },
  {
   "cell_type": "markdown",
   "id": "20e5aded",
   "metadata": {},
   "source": [
    "## (2) Ones() ===> it will create an array in which all the values are one. "
   ]
  },
  {
   "cell_type": "code",
   "execution_count": 27,
   "id": "b0663bb7",
   "metadata": {},
   "outputs": [
    {
     "data": {
      "text/plain": [
       "array([1., 1., 1.])"
      ]
     },
     "execution_count": 27,
     "metadata": {},
     "output_type": "execute_result"
    }
   ],
   "source": [
    "a = np.ones(3)\n",
    "a"
   ]
  },
  {
   "cell_type": "code",
   "execution_count": 28,
   "id": "a016c73e",
   "metadata": {},
   "outputs": [
    {
     "data": {
      "text/plain": [
       "array([[1., 1., 1.],\n",
       "       [1., 1., 1.]])"
      ]
     },
     "execution_count": 28,
     "metadata": {},
     "output_type": "execute_result"
    }
   ],
   "source": [
    "b = np.ones((2,3))\n",
    "b"
   ]
  },
  {
   "cell_type": "markdown",
   "id": "66fcfc27",
   "metadata": {},
   "source": [
    "## (3) eye()  ===. this function will create an array in which all the diagonals are 1."
   ]
  },
  {
   "cell_type": "code",
   "execution_count": 30,
   "id": "b4155e3f",
   "metadata": {},
   "outputs": [
    {
     "data": {
      "text/plain": [
       "array([[1., 0., 0., 0.],\n",
       "       [0., 1., 0., 0.],\n",
       "       [0., 0., 1., 0.]])"
      ]
     },
     "execution_count": 30,
     "metadata": {},
     "output_type": "execute_result"
    }
   ],
   "source": [
    "#Asymmatric \n",
    "a = np.eye(3,4)\n",
    "a"
   ]
  },
  {
   "cell_type": "code",
   "execution_count": 31,
   "id": "f32c7cdf",
   "metadata": {},
   "outputs": [
    {
     "data": {
      "text/plain": [
       "array([[1., 0., 0., 0.],\n",
       "       [0., 1., 0., 0.],\n",
       "       [0., 0., 1., 0.],\n",
       "       [0., 0., 0., 1.]])"
      ]
     },
     "execution_count": 31,
     "metadata": {},
     "output_type": "execute_result"
    }
   ],
   "source": [
    "#Symmatric \n",
    "a = np.eye(4)\n",
    "a"
   ]
  },
  {
   "cell_type": "code",
   "execution_count": null,
   "id": "cef3e6cd",
   "metadata": {},
   "outputs": [],
   "source": []
  },
  {
   "cell_type": "markdown",
   "id": "b9805dab",
   "metadata": {},
   "source": [
    "# Assignment 1"
   ]
  },
  {
   "cell_type": "code",
   "execution_count": null,
   "id": "0bebf0bc",
   "metadata": {},
   "outputs": [],
   "source": []
  },
  {
   "cell_type": "markdown",
   "id": "1882e261",
   "metadata": {},
   "source": [
    "## 1. five questions on map function."
   ]
  },
  {
   "cell_type": "code",
   "execution_count": 36,
   "id": "6ed89dd3",
   "metadata": {},
   "outputs": [
    {
     "name": "stdout",
     "output_type": "stream",
     "text": [
      "[3, 6, 9, 12, 15, 18, 21, 24, 27]\n"
     ]
    }
   ],
   "source": [
    "#1. Write a Python program to triple all numbers in a given list of integers. Use Python map.\n",
    "List = [1,2,3,4,5,6,7,8,9]\n",
    "triple = list(map(lambda x: x*3,List))\n",
    "print(triple)"
   ]
  },
  {
   "cell_type": "code",
   "execution_count": 49,
   "id": "30dc0cfd",
   "metadata": {},
   "outputs": [
    {
     "name": "stdout",
     "output_type": "stream",
     "text": [
      "[2, 4, 6, 8, 10, 12, 14, 16, 18]\n"
     ]
    }
   ],
   "source": [
    "# 2. Write a Python program to add three given lists using Python map .\n",
    "List = [1,2,3,4,5,6,7,8,9]\n",
    "List2 = [1,2,3,4,5,6,7,8,9]\n",
    "add = list(map(lambda x,y: x+y,List,List2))\n",
    "print(add)"
   ]
  },
  {
   "cell_type": "code",
   "execution_count": 58,
   "id": "18964b0a",
   "metadata": {},
   "outputs": [
    {
     "name": "stdout",
     "output_type": "stream",
     "text": [
      "Listify string are : \n",
      "['a', 'p', 'p', 'l', 'e']\n",
      "['b', 'a', 'n', 'a', 'n', 'a']\n",
      "['c', 'h', 'e', 'r', 'r', 'y']\n",
      "['d', 'a', 't', 'e']\n",
      "['e', 'l', 'd', 'e', 'r', 'b', 'e', 'r', 'r', 'y']\n"
     ]
    }
   ],
   "source": [
    "# 3. Write a Python program to listify the list of given strings individually using Python map.\n",
    "string_list = [\"apple\", \"banana\", \"cherry\", \"date\", \"elderberry\"]\n",
    "listify = list(map(list,string_list))\n",
    "print(f\"Listify string are : \")\n",
    "for item in listify:\n",
    "    print(item)"
   ]
  },
  {
   "cell_type": "code",
   "execution_count": 59,
   "id": "87b4ecd5",
   "metadata": {},
   "outputs": [
    {
     "name": "stdout",
     "output_type": "stream",
     "text": [
      "Enter the number for power ; 2\n",
      "[1, 4, 9, 16, 25, 36, 49, 64, 81]\n"
     ]
    }
   ],
   "source": [
    "# 4. Write a Python program to create a list containing the power of said number in bases raised to the corresponding number in the index using Python map.\n",
    "power = int(input(\"Enter the number for power ; \"))\n",
    "List = [1,2,3,4,5,6,7,8,9]\n",
    "expo = list(map(lambda x: x**power,List))\n",
    "print(expo)"
   ]
  },
  {
   "cell_type": "code",
   "execution_count": 63,
   "id": "96d13d21",
   "metadata": {},
   "outputs": [
    {
     "name": "stdout",
     "output_type": "stream",
     "text": [
      "[1, 4, 9, 16, 25, 36, 49, 64, 81]\n"
     ]
    }
   ],
   "source": [
    "# 5. Write a Python program to square the elements of a list using the map() function.\n",
    "List = [1,2,3,4,5,6,7,8,9]\n",
    "square = list(map(lambda x: x**2,List))\n",
    "print(square)\n"
   ]
  },
  {
   "cell_type": "markdown",
   "id": "d2619092",
   "metadata": {},
   "source": [
    "## 2. five questions on filter function."
   ]
  },
  {
   "cell_type": "code",
   "execution_count": 68,
   "id": "d36121fd",
   "metadata": {},
   "outputs": [
    {
     "name": "stdout",
     "output_type": "stream",
     "text": [
      "[2, 4, 6, 8]\n"
     ]
    }
   ],
   "source": [
    "# 1. Write a Python function that filters out even numbers from a list of integers using the filter function.\n",
    "List = [1,2,3,4,5,6,7,8,9]\n",
    "even = list(filter(lambda x: x%2==0, List))\n",
    "print(even)"
   ]
  },
  {
   "cell_type": "code",
   "execution_count": 72,
   "id": "6c8378d5",
   "metadata": {},
   "outputs": [
    {
     "name": "stdout",
     "output_type": "stream",
     "text": [
      "['BANANA', 'DATE']\n"
     ]
    }
   ],
   "source": [
    "# 2. Write a Python program that uses the filter function to extract all uppercase letters from a list of mixed-case \n",
    "#strings.\n",
    "string_list = [\"apple\", \"BANANA\", \"cherry\", \"DATE\", \"elderberry\"]\n",
    "upper_case = list(filter(lambda x: x == x.upper() , string_list))\n",
    "print(upper_case)"
   ]
  },
  {
   "cell_type": "code",
   "execution_count": 74,
   "id": "30d2c339",
   "metadata": {},
   "outputs": [
    {
     "name": "stdout",
     "output_type": "stream",
     "text": [
      "Enter a number to get less or equal to that number : 3\n",
      "[1, 2, 3]\n"
     ]
    }
   ],
   "source": [
    "# 3. Write a Python function that filters out all elements less than or equal than a specified value from a list of \n",
    "#numbers using the filter function.\n",
    "spe_val = int(input(\"Enter a number to get less or equal to that number : \"))\n",
    "List = [1,2,3,4,5,6,7,8,9]\n",
    "less_or_equal = list(filter(lambda x: x<=spe_val, List))\n",
    "print(less_or_equal)"
   ]
  },
  {
   "cell_type": "code",
   "execution_count": 95,
   "id": "fd599b3b",
   "metadata": {},
   "outputs": [
    {
     "name": "stdout",
     "output_type": "stream",
     "text": [
      "['apple', 'elderberry']\n"
     ]
    }
   ],
   "source": [
    "# 4. Write a Python program that creates a list of names and uses the filter function to extract names that \n",
    "# start with a vowel (A, E, I, O, U).\n",
    "string_list = [\"apple\", \"banana\", \"cherry\", \"date\", \"elderberry\"]\n",
    "vowel_name = list(filter(lambda x: x[0]=='a' or x[0]=='e' or x[0]=='i' or x[0]=='o' or x[0]=='u', string_list))\n",
    "print(vowel_name)"
   ]
  },
  {
   "cell_type": "code",
   "execution_count": 99,
   "id": "057db966",
   "metadata": {},
   "outputs": [
    {
     "name": "stdout",
     "output_type": "stream",
     "text": [
      "['apple', 'banana', 'cherry', 'date', 'elderberry']\n"
     ]
    }
   ],
   "source": [
    "# 5. Write a Python function that filters out all empty strings from a list of strings using the filter function.\n",
    "string_list = [\"apple\", \"banana\", '', \"cherry\", \"date\", '', \"elderberry\"]\n",
    "vowel_name = list(filter(lambda x: x!='', string_list))\n",
    "print(vowel_name)"
   ]
  },
  {
   "cell_type": "markdown",
   "id": "07ba40ba",
   "metadata": {},
   "source": [
    "## 3. five questions on lambda function."
   ]
  },
  {
   "cell_type": "code",
   "execution_count": 100,
   "id": "3a1304a4",
   "metadata": {},
   "outputs": [
    {
     "name": "stdout",
     "output_type": "stream",
     "text": [
      "25\n"
     ]
    }
   ],
   "source": [
    "# 1. Write a  Python program to create a lambda function that adds 15 to a given number passed in as an argument, \n",
    "add_15 = lambda x : x + 15\n",
    "print(add_15(10))"
   ]
  },
  {
   "cell_type": "code",
   "execution_count": 102,
   "id": "33b46863",
   "metadata": {},
   "outputs": [
    {
     "name": "stdout",
     "output_type": "stream",
     "text": [
      "8\n"
     ]
    }
   ],
   "source": [
    "# 2. create a lambda function that multiplies argument x with argument y and prints the result.\n",
    "mul_x_with_y = lambda x, y : x * y\n",
    "print(mul_x_with_y(2,4))"
   ]
  },
  {
   "cell_type": "code",
   "execution_count": 108,
   "id": "2721ddc1",
   "metadata": {},
   "outputs": [
    {
     "name": "stdout",
     "output_type": "stream",
     "text": [
      "Enter a number : 3\n",
      "45\n"
     ]
    }
   ],
   "source": [
    "# 3. Write a  Python program to create a function that takes one argument, and that argument will be multiplied with\n",
    "# an unknown given number.\n",
    "unknown_number = 15\n",
    "mul = lambda x: x * unknown_number\n",
    "print(mul(int(input(\"Enter a number : \"))))"
   ]
  },
  {
   "cell_type": "code",
   "execution_count": 116,
   "id": "3dfffd49",
   "metadata": {},
   "outputs": [
    {
     "name": "stdout",
     "output_type": "stream",
     "text": [
      "Number of elements in the list: 5\n"
     ]
    }
   ],
   "source": [
    "# 4. Write a python to count element in list using lambda\n",
    "string_list = [\"apple\", \"banana\", \"cherry\", \"date\", \"elderberry\"]\n",
    "\n",
    "count_elements = lambda lst: len(lst)\n",
    "\n",
    "result = count_elements(string_list)\n",
    "\n",
    "print(f\"Number of elements in the list: {result}\")\n"
   ]
  },
  {
   "cell_type": "code",
   "execution_count": 131,
   "id": "e55299ed",
   "metadata": {},
   "outputs": [
    {
     "name": "stdout",
     "output_type": "stream",
     "text": [
      "6\n",
      "7\n",
      "8\n",
      "9\n",
      "10\n"
     ]
    }
   ],
   "source": [
    "# 5. add 5 to each element of list\n",
    "List = [1,2,3,4,5]\n",
    "add_5 = lambda x : x+5\n",
    "for i in List:\n",
    "    print(add_5(i))"
   ]
  },
  {
   "cell_type": "markdown",
   "id": "9555c6e2",
   "metadata": {},
   "source": [
    "## 4. Do practice of different matrixes"
   ]
  },
  {
   "cell_type": "code",
   "execution_count": 133,
   "id": "d77a5737",
   "metadata": {},
   "outputs": [
    {
     "name": "stdout",
     "output_type": "stream",
     "text": [
      "[0. 0. 0.]\n"
     ]
    }
   ],
   "source": [
    "import numpy as n\n",
    "print(n.zeros(3))"
   ]
  },
  {
   "cell_type": "code",
   "execution_count": 135,
   "id": "0f436d60",
   "metadata": {},
   "outputs": [
    {
     "name": "stdout",
     "output_type": "stream",
     "text": [
      "[1. 1. 1. 1.]\n"
     ]
    }
   ],
   "source": [
    "print(n.ones(4))"
   ]
  },
  {
   "cell_type": "code",
   "execution_count": 139,
   "id": "1f78500f",
   "metadata": {},
   "outputs": [
    {
     "name": "stdout",
     "output_type": "stream",
     "text": [
      "[[1. 1.]\n",
      " [1. 1.]\n",
      " [1. 1.]]\n"
     ]
    }
   ],
   "source": [
    "print(n.ones((3,2)))"
   ]
  },
  {
   "cell_type": "code",
   "execution_count": 140,
   "id": "7bee08bf",
   "metadata": {},
   "outputs": [
    {
     "name": "stdout",
     "output_type": "stream",
     "text": [
      "[[0. 0. 0. 0.]\n",
      " [0. 0. 0. 0.]\n",
      " [0. 0. 0. 0.]]\n"
     ]
    }
   ],
   "source": [
    "print(n.zeros((3,4)))"
   ]
  },
  {
   "cell_type": "code",
   "execution_count": 141,
   "id": "2d7bc75b",
   "metadata": {},
   "outputs": [
    {
     "name": "stdout",
     "output_type": "stream",
     "text": [
      "[[1. 0. 0. 0.]\n",
      " [0. 1. 0. 0.]\n",
      " [0. 0. 1. 0.]\n",
      " [0. 0. 0. 1.]]\n"
     ]
    }
   ],
   "source": [
    "print(n.eye(4))"
   ]
  },
  {
   "cell_type": "code",
   "execution_count": 142,
   "id": "4b5ada9f",
   "metadata": {},
   "outputs": [
    {
     "name": "stdout",
     "output_type": "stream",
     "text": [
      "[[1. 0. 0. 0.]\n",
      " [0. 1. 0. 0.]\n",
      " [0. 0. 1. 0.]]\n"
     ]
    }
   ],
   "source": [
    "print(n.eye(3,4))"
   ]
  },
  {
   "cell_type": "markdown",
   "id": "c2099541",
   "metadata": {},
   "source": [
    "# Lecture_2"
   ]
  },
  {
   "cell_type": "markdown",
   "id": "254c0d08",
   "metadata": {},
   "source": [
    "## 4. diag ==. This function create a two dimensional array with all the diagonal elements as the given value and rest are zero."
   ]
  },
  {
   "cell_type": "code",
   "execution_count": 3,
   "id": "9f6ce841",
   "metadata": {},
   "outputs": [
    {
     "data": {
      "text/plain": [
       "array([[1, 0, 0, 0],\n",
       "       [0, 4, 0, 0],\n",
       "       [0, 0, 8, 0],\n",
       "       [0, 0, 0, 9]])"
      ]
     },
     "execution_count": 3,
     "metadata": {},
     "output_type": "execute_result"
    }
   ],
   "source": [
    "import numpy as np\n",
    "a = np.diag([1,4,8,9])\n",
    "a"
   ]
  },
  {
   "cell_type": "markdown",
   "id": "2bbc7b99",
   "metadata": {},
   "source": [
    "## 5. randint ==> This function is used to generate a random number between a given range. syntax ==> randint(min_value, max_value, total no)"
   ]
  },
  {
   "cell_type": "code",
   "execution_count": 5,
   "id": "d1a5ef0f",
   "metadata": {},
   "outputs": [
    {
     "data": {
      "text/plain": [
       "array([3, 5, 4])"
      ]
     },
     "execution_count": 5,
     "metadata": {},
     "output_type": "execute_result"
    }
   ],
   "source": [
    "a = np.random.randint(1,10,3)\n",
    "a"
   ]
  },
  {
   "cell_type": "markdown",
   "id": "5c4e3cf6",
   "metadata": {},
   "source": [
    "## 6. rand() ==> This function is used to generate a random number between 0 and 1.     syntax ==> rand(number of values)"
   ]
  },
  {
   "cell_type": "code",
   "execution_count": 12,
   "id": "1d3c36af",
   "metadata": {},
   "outputs": [
    {
     "data": {
      "text/plain": [
       "array([0.50991405, 0.91616706, 0.66771238])"
      ]
     },
     "execution_count": 12,
     "metadata": {},
     "output_type": "execute_result"
    }
   ],
   "source": [
    "a = np.random.rand(3)\n",
    "a"
   ]
  },
  {
   "cell_type": "markdown",
   "id": "404b3ef2",
   "metadata": {},
   "source": [
    "## 7. randn() ==> this function is used to generate a random number from -3 to close 3. This may return positive or negative numbers as well.  Syntax ==> random.randn (number of values)"
   ]
  },
  {
   "cell_type": "code",
   "execution_count": 14,
   "id": "2744e526",
   "metadata": {},
   "outputs": [
    {
     "data": {
      "text/plain": [
       "array([-0.16597783, -0.47444677,  1.43383382])"
      ]
     },
     "execution_count": 14,
     "metadata": {},
     "output_type": "execute_result"
    }
   ],
   "source": [
    "a = np.random.randn(3)\n",
    "a"
   ]
  },
  {
   "cell_type": "markdown",
   "id": "42ec4366",
   "metadata": {},
   "source": [
    "# Reshaping data"
   ]
  },
  {
   "cell_type": "code",
   "execution_count": 16,
   "id": "23a56d78",
   "metadata": {},
   "outputs": [
    {
     "data": {
      "text/plain": [
       "array([14, 49, 43, 46, 14, 30,  6, 15,  7, 16, 45,  5])"
      ]
     },
     "execution_count": 16,
     "metadata": {},
     "output_type": "execute_result"
    }
   ],
   "source": [
    "a = np.random.randint(1,50,12)\n",
    "a"
   ]
  },
  {
   "cell_type": "code",
   "execution_count": 17,
   "id": "49759224",
   "metadata": {},
   "outputs": [],
   "source": [
    "#n(rows)*n(columns) = n(total_element)"
   ]
  },
  {
   "cell_type": "code",
   "execution_count": 18,
   "id": "8c101e3a",
   "metadata": {},
   "outputs": [
    {
     "data": {
      "text/plain": [
       "(12,)"
      ]
     },
     "execution_count": 18,
     "metadata": {},
     "output_type": "execute_result"
    }
   ],
   "source": [
    "a.shape"
   ]
  },
  {
   "cell_type": "code",
   "execution_count": 19,
   "id": "fdd61734",
   "metadata": {},
   "outputs": [],
   "source": [
    "a = a.reshape(2,6)"
   ]
  },
  {
   "cell_type": "code",
   "execution_count": 20,
   "id": "fa666692",
   "metadata": {},
   "outputs": [],
   "source": [
    "a = a.reshape(6,2)"
   ]
  },
  {
   "cell_type": "code",
   "execution_count": 22,
   "id": "066941f3",
   "metadata": {},
   "outputs": [],
   "source": [
    "a = a.reshape(3,4)"
   ]
  },
  {
   "cell_type": "code",
   "execution_count": 106,
   "id": "026b8da0",
   "metadata": {},
   "outputs": [
    {
     "name": "stdout",
     "output_type": "stream",
     "text": [
      "[[10 34 15 26  7  9 34 24  4 36 10 14 21 29 36 25 21 21  7 22 13  5 44 15\n",
      "  41 34 39 37 38 22 41 46 48 25 30 24 40 27 44 40 43 25 47 30 24 32  3 21\n",
      "  42  3 47 21  9 41 34 49 46 32 31 49 17 22  5  8]]\n",
      "[[10 34 15 26  7  9 34 24  4 36 10 14 21 29 36 25 21 21  7 22 13  5 44 15\n",
      "  41 34 39 37 38 22 41 46 48 25 30 24 40 27 44 40 43 25 47 30 24 32  3 21\n",
      "  42  3 47 21  9 41 34 49 46 32 31 49 17 22  5  8]]\n",
      "[[10 34 15 26  7  9 34 24  4 36 10 14 21 29 36 25 21 21  7 22 13  5 44 15\n",
      "  41 34 39 37 38 22 41 46 48 25 30 24 40 27 44 40 43 25 47 30 24 32  3 21\n",
      "  42  3 47 21  9 41 34 49 46 32 31 49 17 22  5  8]]\n",
      "[[10 34 15 26  7  9 34 24  4 36 10 14 21 29 36 25 21 21  7 22 13  5 44 15\n",
      "  41 34 39 37 38 22 41 46 48 25 30 24 40 27 44 40 43 25 47 30 24 32  3 21\n",
      "  42  3 47 21  9 41 34 49 46 32 31 49 17 22  5  8]]\n",
      "[[10 34 15 26  7  9 34 24  4 36 10 14 21 29 36 25 21 21  7 22 13  5 44 15\n",
      "  41 34 39 37 38 22 41 46 48 25 30 24 40 27 44 40 43 25 47 30 24 32  3 21\n",
      "  42  3 47 21  9 41 34 49 46 32 31 49 17 22  5  8]]\n",
      "[[10 34 15 26  7  9 34 24  4 36 10 14 21 29 36 25 21 21  7 22 13  5 44 15\n",
      "  41 34 39 37 38 22 41 46 48 25 30 24 40 27 44 40 43 25 47 30 24 32  3 21\n",
      "  42  3 47 21  9 41 34 49 46 32 31 49 17 22  5  8]]\n",
      "[[10 34 15 26  7  9 34 24  4 36 10 14 21 29 36 25 21 21  7 22 13  5 44 15\n",
      "  41 34 39 37 38 22 41 46 48 25 30 24 40 27 44 40 43 25 47 30 24 32  3 21\n",
      "  42  3 47 21  9 41 34 49 46 32 31 49 17 22  5  8]]\n"
     ]
    }
   ],
   "source": [
    "# make matrix of 64 and reshape it \n",
    "a = np.random.randint(1,50,64)\n",
    "num = 64\n",
    "factor=[]\n",
    "for fac in range(1,num+1):\n",
    "    if num%fac==0:\n",
    "        print(a.reshape(-1,num))\n"
   ]
  },
  {
   "cell_type": "markdown",
   "id": "8773382d",
   "metadata": {},
   "source": [
    "## principal of -1"
   ]
  },
  {
   "cell_type": "code",
   "execution_count": 102,
   "id": "940f124f",
   "metadata": {},
   "outputs": [
    {
     "data": {
      "text/plain": [
       "array([[46,  6, 15, 32, 25,  7, 14, 44, 23,  5, 36, 30, 40, 10, 43, 20],\n",
       "       [34, 39, 25, 38,  5, 18, 11, 44, 12, 40, 25, 40, 42, 15, 29,  7],\n",
       "       [31, 46, 31, 30,  9, 28,  1,  2, 10, 13,  4, 37, 46, 38,  6,  6],\n",
       "       [33, 34, 45, 33,  8, 35, 44, 15, 42,  8, 12, 41, 43, 28, 11, 43]])"
      ]
     },
     "execution_count": 102,
     "metadata": {},
     "output_type": "execute_result"
    }
   ],
   "source": [
    "# if we don't know either row or col replace it by -1\n",
    "a = a.reshape(4,-1)\n",
    "a"
   ]
  },
  {
   "cell_type": "markdown",
   "id": "32d2aaf6",
   "metadata": {},
   "source": [
    "## Seed Function() ==> We know that randint fuction generates random numbers. Everytime we run the program , new set of random number is generated. So, solve this problem we will use seed function."
   ]
  },
  {
   "cell_type": "code",
   "execution_count": 55,
   "id": "89c293b5",
   "metadata": {},
   "outputs": [
    {
     "data": {
      "text/plain": [
       "array([26, 64, 81, 92, 82, 56, 14, 77, 34, 72])"
      ]
     },
     "execution_count": 55,
     "metadata": {},
     "output_type": "execute_result"
    }
   ],
   "source": [
    "np.random.seed(11)\n",
    "a = np.random.randint(1,100,10)\n",
    "a"
   ]
  },
  {
   "cell_type": "code",
   "execution_count": 58,
   "id": "a708efde",
   "metadata": {},
   "outputs": [
    {
     "data": {
      "text/plain": [
       "array([[341, 365, 469, 213,  87],\n",
       "       [276, 170, 323, 119, 467],\n",
       "       [297, 456, 442,   8, 269],\n",
       "       [267, 450, 369, 217, 285],\n",
       "       [271, 419,  22,  55, 201],\n",
       "       [ 38, 461, 231, 187, 269]])"
      ]
     },
     "execution_count": 58,
     "metadata": {},
     "output_type": "execute_result"
    }
   ],
   "source": [
    "np.random.seed(111)\n",
    "a = np.random.randint(1,500,30).reshape(6,5)\n",
    "a"
   ]
  },
  {
   "cell_type": "markdown",
   "id": "95d68438",
   "metadata": {},
   "source": [
    "## view Vs copy ==> when we slice a sub-array from an array, it may be done by two ways."
   ]
  },
  {
   "cell_type": "code",
   "execution_count": 60,
   "id": "b9b4d4a9",
   "metadata": {},
   "outputs": [
    {
     "data": {
      "text/plain": [
       "array([10, 20, 30,  0,  0,  0, 70, 80])"
      ]
     },
     "execution_count": 60,
     "metadata": {},
     "output_type": "execute_result"
    }
   ],
   "source": [
    "a = np.array([10,20,30,40,50,60,70,80])\n",
    "b = a[3:6]\n",
    "b[:] = 0\n",
    "a"
   ]
  },
  {
   "cell_type": "markdown",
   "id": "40145999",
   "metadata": {},
   "source": [
    "## copy"
   ]
  },
  {
   "cell_type": "code",
   "execution_count": 62,
   "id": "a107ed26",
   "metadata": {},
   "outputs": [
    {
     "data": {
      "text/plain": [
       "array([10, 20, 30, 40, 50, 60, 70, 80])"
      ]
     },
     "execution_count": 62,
     "metadata": {},
     "output_type": "execute_result"
    }
   ],
   "source": [
    "a = np.array([10,20,30,40,50,60,70,80])\n",
    "b = a[3:6].copy()\n",
    "b[:] = 0\n",
    "a"
   ]
  },
  {
   "cell_type": "markdown",
   "id": "fac54d5a",
   "metadata": {},
   "source": [
    "## conditional selection"
   ]
  },
  {
   "cell_type": "code",
   "execution_count": 64,
   "id": "64bcbf12",
   "metadata": {},
   "outputs": [
    {
     "data": {
      "text/plain": [
       "array([ 1,  2,  3,  4,  5,  6,  7,  8,  9, 10, 11, 12, 13, 14, 15])"
      ]
     },
     "execution_count": 64,
     "metadata": {},
     "output_type": "execute_result"
    }
   ],
   "source": [
    "a = np.arange(1,16)\n",
    "a"
   ]
  },
  {
   "cell_type": "code",
   "execution_count": 65,
   "id": "ff227892",
   "metadata": {},
   "outputs": [
    {
     "data": {
      "text/plain": [
       "array([False, False, False, False, False, False, False, False, False,\n",
       "       False,  True,  True,  True,  True,  True])"
      ]
     },
     "execution_count": 65,
     "metadata": {},
     "output_type": "execute_result"
    }
   ],
   "source": [
    "a>10"
   ]
  },
  {
   "cell_type": "code",
   "execution_count": 66,
   "id": "730c5663",
   "metadata": {},
   "outputs": [
    {
     "data": {
      "text/plain": [
       "array([ True,  True,  True,  True,  True,  True,  True,  True,  True,\n",
       "       False, False, False, False, False, False])"
      ]
     },
     "execution_count": 66,
     "metadata": {},
     "output_type": "execute_result"
    }
   ],
   "source": [
    "a<10"
   ]
  },
  {
   "cell_type": "code",
   "execution_count": 69,
   "id": "3ecb88c8",
   "metadata": {},
   "outputs": [
    {
     "data": {
      "text/plain": [
       "array([11, 12, 13, 14, 15])"
      ]
     },
     "execution_count": 69,
     "metadata": {},
     "output_type": "execute_result"
    }
   ],
   "source": [
    "b = a>10\n",
    "a[b]"
   ]
  },
  {
   "cell_type": "code",
   "execution_count": 70,
   "id": "8fc9e136",
   "metadata": {},
   "outputs": [
    {
     "data": {
      "text/plain": [
       "array([ 2,  4,  6,  8, 10, 12, 14])"
      ]
     },
     "execution_count": 70,
     "metadata": {},
     "output_type": "execute_result"
    }
   ],
   "source": [
    "a[a%2 == 0]"
   ]
  },
  {
   "cell_type": "markdown",
   "id": "a9657e26",
   "metadata": {},
   "source": [
    "## operation on array"
   ]
  },
  {
   "cell_type": "code",
   "execution_count": 72,
   "id": "7431ab58",
   "metadata": {},
   "outputs": [
    {
     "data": {
      "text/plain": [
       "array([2, 4, 6, 8])"
      ]
     },
     "execution_count": 72,
     "metadata": {},
     "output_type": "execute_result"
    }
   ],
   "source": [
    "import numpy as np\n",
    "a = np.arange(1,5)\n",
    "a*2"
   ]
  },
  {
   "cell_type": "code",
   "execution_count": 73,
   "id": "907fc0b7",
   "metadata": {},
   "outputs": [
    {
     "data": {
      "text/plain": [
       "array([3, 4, 5, 6])"
      ]
     },
     "execution_count": 73,
     "metadata": {},
     "output_type": "execute_result"
    }
   ],
   "source": [
    "a+2"
   ]
  },
  {
   "cell_type": "code",
   "execution_count": 74,
   "id": "0bc5672a",
   "metadata": {},
   "outputs": [
    {
     "data": {
      "text/plain": [
       "array([ 1,  4,  9, 16], dtype=int32)"
      ]
     },
     "execution_count": 74,
     "metadata": {},
     "output_type": "execute_result"
    }
   ],
   "source": [
    "a**2"
   ]
  },
  {
   "cell_type": "code",
   "execution_count": 75,
   "id": "fac8e502",
   "metadata": {},
   "outputs": [
    {
     "data": {
      "text/plain": [
       "array([[1, 2],\n",
       "       [3, 4]])"
      ]
     },
     "execution_count": 75,
     "metadata": {},
     "output_type": "execute_result"
    }
   ],
   "source": [
    "a = np.array([1,2,3,4]).reshape(2,2)\n",
    "a"
   ]
  },
  {
   "cell_type": "code",
   "execution_count": 76,
   "id": "0a35e95f",
   "metadata": {},
   "outputs": [
    {
     "data": {
      "text/plain": [
       "array([[5, 6],\n",
       "       [7, 8]])"
      ]
     },
     "execution_count": 76,
     "metadata": {},
     "output_type": "execute_result"
    }
   ],
   "source": [
    "b = np.array([5,6,7,8]).reshape(2,2)\n",
    "b"
   ]
  },
  {
   "cell_type": "code",
   "execution_count": 77,
   "id": "97b5d40f",
   "metadata": {},
   "outputs": [
    {
     "data": {
      "text/plain": [
       "array([[ 6,  8],\n",
       "       [10, 12]])"
      ]
     },
     "execution_count": 77,
     "metadata": {},
     "output_type": "execute_result"
    }
   ],
   "source": [
    "a+b"
   ]
  },
  {
   "cell_type": "code",
   "execution_count": 78,
   "id": "5a4956fa",
   "metadata": {},
   "outputs": [
    {
     "data": {
      "text/plain": [
       "array([[4, 4],\n",
       "       [4, 4]])"
      ]
     },
     "execution_count": 78,
     "metadata": {},
     "output_type": "execute_result"
    }
   ],
   "source": [
    "b-a"
   ]
  },
  {
   "cell_type": "code",
   "execution_count": 79,
   "id": "c834b970",
   "metadata": {},
   "outputs": [
    {
     "data": {
      "text/plain": [
       "array([[5.        , 3.        ],\n",
       "       [2.33333333, 2.        ]])"
      ]
     },
     "execution_count": 79,
     "metadata": {},
     "output_type": "execute_result"
    }
   ],
   "source": [
    "b/a"
   ]
  },
  {
   "cell_type": "code",
   "execution_count": 80,
   "id": "27b2ec22",
   "metadata": {},
   "outputs": [
    {
     "data": {
      "text/plain": [
       "array([[ 5, 12],\n",
       "       [21, 32]])"
      ]
     },
     "execution_count": 80,
     "metadata": {},
     "output_type": "execute_result"
    }
   ],
   "source": [
    "a*b"
   ]
  },
  {
   "cell_type": "code",
   "execution_count": 82,
   "id": "d8a14fe9",
   "metadata": {},
   "outputs": [
    {
     "data": {
      "text/plain": [
       "array([[19, 22],\n",
       "       [43, 50]])"
      ]
     },
     "execution_count": 82,
     "metadata": {},
     "output_type": "execute_result"
    }
   ],
   "source": [
    "#correct answerr for multiplication\n",
    "a.dot(b)"
   ]
  },
  {
   "cell_type": "code",
   "execution_count": 87,
   "id": "6f6b9fdc",
   "metadata": {},
   "outputs": [
    {
     "data": {
      "text/plain": [
       "10"
      ]
     },
     "execution_count": 87,
     "metadata": {},
     "output_type": "execute_result"
    }
   ],
   "source": [
    "a = np.array([10,20,30,40,50])\n",
    "np.min(a)"
   ]
  },
  {
   "cell_type": "code",
   "execution_count": 88,
   "id": "f60f72f6",
   "metadata": {},
   "outputs": [
    {
     "data": {
      "text/plain": [
       "50"
      ]
     },
     "execution_count": 88,
     "metadata": {},
     "output_type": "execute_result"
    }
   ],
   "source": [
    "np.max(a)"
   ]
  },
  {
   "cell_type": "code",
   "execution_count": 89,
   "id": "43a3a6a8",
   "metadata": {},
   "outputs": [
    {
     "data": {
      "text/plain": [
       "0"
      ]
     },
     "execution_count": 89,
     "metadata": {},
     "output_type": "execute_result"
    }
   ],
   "source": [
    "np.argmin(a)"
   ]
  },
  {
   "cell_type": "code",
   "execution_count": 90,
   "id": "6544e80b",
   "metadata": {},
   "outputs": [
    {
     "data": {
      "text/plain": [
       "4"
      ]
     },
     "execution_count": 90,
     "metadata": {},
     "output_type": "execute_result"
    }
   ],
   "source": [
    "np.argmax(a)"
   ]
  },
  {
   "cell_type": "code",
   "execution_count": 91,
   "id": "a423c6cc",
   "metadata": {},
   "outputs": [
    {
     "data": {
      "text/plain": [
       "array([3.16227766, 4.47213595, 5.47722558, 6.32455532, 7.07106781])"
      ]
     },
     "execution_count": 91,
     "metadata": {},
     "output_type": "execute_result"
    }
   ],
   "source": [
    "np.sqrt(a)"
   ]
  },
  {
   "cell_type": "code",
   "execution_count": 92,
   "id": "453c8f5e",
   "metadata": {},
   "outputs": [
    {
     "data": {
      "text/plain": [
       "array([-0.54402111,  0.91294525, -0.98803162,  0.74511316, -0.26237485])"
      ]
     },
     "execution_count": 92,
     "metadata": {},
     "output_type": "execute_result"
    }
   ],
   "source": [
    "np.sin(a)"
   ]
  },
  {
   "cell_type": "markdown",
   "id": "2fdaacde",
   "metadata": {},
   "source": [
    "## Linspace() ==> This function returns value between a given range and with a same gap between consicutive elements."
   ]
  },
  {
   "cell_type": "code",
   "execution_count": 93,
   "id": "bb3660c3",
   "metadata": {},
   "outputs": [
    {
     "data": {
      "text/plain": [
       "array([1.  , 1.25, 1.5 , 1.75, 2.  ])"
      ]
     },
     "execution_count": 93,
     "metadata": {},
     "output_type": "execute_result"
    }
   ],
   "source": [
    "import numpy as np\n",
    "a = np.linspace(1,2,5)\n",
    "a"
   ]
  },
  {
   "cell_type": "markdown",
   "id": "e767bfc0",
   "metadata": {},
   "source": [
    "## np.unique(arr, return_index = True, return_counts= True)"
   ]
  },
  {
   "cell_type": "markdown",
   "id": "6ebaf103",
   "metadata": {},
   "source": [
    "#### return 3 array 1. the array with unique values 2. the array with respective index vvalue 3. the array with counting of frequency"
   ]
  },
  {
   "cell_type": "code",
   "execution_count": 95,
   "id": "269739d8",
   "metadata": {},
   "outputs": [
    {
     "data": {
      "text/plain": [
       "(array([10, 20, 30, 40, 50]),\n",
       " array([0, 1, 2, 3, 6], dtype=int64),\n",
       " array([2, 2, 1, 1, 1], dtype=int64))"
      ]
     },
     "execution_count": 95,
     "metadata": {},
     "output_type": "execute_result"
    }
   ],
   "source": [
    "a = np.array([10,20,30,40,10,20,50])\n",
    "np.unique(a, return_index= True, return_counts= True)"
   ]
  },
  {
   "cell_type": "markdown",
   "id": "e57e4d44",
   "metadata": {},
   "source": [
    "## horizontal and vertical stacking"
   ]
  },
  {
   "cell_type": "code",
   "execution_count": 96,
   "id": "cb7b836b",
   "metadata": {},
   "outputs": [
    {
     "data": {
      "text/plain": [
       "array([1, 2, 3, 4])"
      ]
     },
     "execution_count": 96,
     "metadata": {},
     "output_type": "execute_result"
    }
   ],
   "source": [
    "a = np.array([1,2,3,4])\n",
    "b = np.array([5,6,7,8])\n",
    "a"
   ]
  },
  {
   "cell_type": "code",
   "execution_count": 97,
   "id": "977c0734",
   "metadata": {},
   "outputs": [
    {
     "data": {
      "text/plain": [
       "array([5, 6, 7, 8])"
      ]
     },
     "execution_count": 97,
     "metadata": {},
     "output_type": "execute_result"
    }
   ],
   "source": [
    "b"
   ]
  },
  {
   "cell_type": "code",
   "execution_count": 99,
   "id": "67ca2890",
   "metadata": {},
   "outputs": [
    {
     "data": {
      "text/plain": [
       "array([1, 2, 3, 4, 5, 6, 7, 8])"
      ]
     },
     "execution_count": 99,
     "metadata": {},
     "output_type": "execute_result"
    }
   ],
   "source": [
    "np.hstack((a,b))"
   ]
  },
  {
   "cell_type": "code",
   "execution_count": 100,
   "id": "0a4a8d9b",
   "metadata": {},
   "outputs": [
    {
     "data": {
      "text/plain": [
       "array([[1, 2, 3, 4],\n",
       "       [5, 6, 7, 8]])"
      ]
     },
     "execution_count": 100,
     "metadata": {},
     "output_type": "execute_result"
    }
   ],
   "source": [
    "np.vstack((a,b))\n"
   ]
  },
  {
   "cell_type": "markdown",
   "id": "3f555f02",
   "metadata": {},
   "source": [
    "# Assignment 2"
   ]
  },
  {
   "cell_type": "code",
   "execution_count": 107,
   "id": "a7f4788a",
   "metadata": {},
   "outputs": [],
   "source": [
    "# Q.1 = Write statement to import numpy?\n",
    "import numpy as np"
   ]
  },
  {
   "cell_type": "code",
   "execution_count": 111,
   "id": "148b8917",
   "metadata": {},
   "outputs": [
    {
     "data": {
      "text/plain": [
       "array([3, 4])"
      ]
     },
     "execution_count": 111,
     "metadata": {},
     "output_type": "execute_result"
    }
   ],
   "source": [
    "# Q.2 = Create an array using numpy ?\n",
    "a = np.array([3,4])\n",
    "a"
   ]
  },
  {
   "cell_type": "code",
   "execution_count": 113,
   "id": "8e879331",
   "metadata": {},
   "outputs": [
    {
     "data": {
      "text/plain": [
       "array([ 5, 11, 98, 12, 54, 50, 10, 49,  8, 76])"
      ]
     },
     "execution_count": 113,
     "metadata": {},
     "output_type": "execute_result"
    }
   ],
   "source": [
    "# Q.3 = Create an array of 10 random integers ?\n",
    "a = np.array(np.random.randint(1,100,10))\n",
    "a"
   ]
  },
  {
   "cell_type": "code",
   "execution_count": 134,
   "id": "8e44c95d",
   "metadata": {},
   "outputs": [
    {
     "data": {
      "text/plain": [
       "array([10, 11, 12, 13, 14, 15, 16, 17, 18, 19, 20])"
      ]
     },
     "execution_count": 134,
     "metadata": {},
     "output_type": "execute_result"
    }
   ],
   "source": [
    "# Q.4 = Create an array of elements from 10-20?\n",
    "a = np.arange(10,21)\n",
    "a"
   ]
  },
  {
   "cell_type": "code",
   "execution_count": 116,
   "id": "a4b4797f",
   "metadata": {},
   "outputs": [
    {
     "data": {
      "text/plain": [
       "array([5, 5, 5, 5, 5, 5, 5, 5, 5, 5])"
      ]
     },
     "execution_count": 116,
     "metadata": {},
     "output_type": "execute_result"
    }
   ],
   "source": [
    "# Q.5 = Create an array which contains value 5, 10 times ?\n",
    "a = np.array(np.random.randint(5,6,10))\n",
    "a"
   ]
  },
  {
   "cell_type": "code",
   "execution_count": 118,
   "id": "4bc608ed",
   "metadata": {},
   "outputs": [
    {
     "data": {
      "text/plain": [
       "array([[68, 60, 97],\n",
       "       [51, 97, 76],\n",
       "       [ 8, 14,  2]])"
      ]
     },
     "execution_count": 118,
     "metadata": {},
     "output_type": "execute_result"
    }
   ],
   "source": [
    "# Q.6 = Create a one dimensional array and convert that into 3*3 matrix ?\n",
    "a = np.array(np.random.randint(1,100,9))\n",
    "a.reshape(3,3)"
   ]
  },
  {
   "cell_type": "code",
   "execution_count": 123,
   "id": "4ff15b5d",
   "metadata": {},
   "outputs": [
    {
     "data": {
      "text/plain": [
       "array([[0.64871697, 0.24904759, 0.65890977],\n",
       "       [0.90041947, 0.90756005, 0.72930591],\n",
       "       [0.17499494, 0.41745292, 0.25423037]])"
      ]
     },
     "execution_count": 123,
     "metadata": {},
     "output_type": "execute_result"
    }
   ],
   "source": [
    "# Q.7 = Create a 2D array of size 3*3 but all the elements should be between 0 to 1?\n",
    "a = np.array(np.random.rand(9))\n",
    "a.reshape(3,3)"
   ]
  },
  {
   "cell_type": "code",
   "execution_count": 132,
   "id": "6e522e31",
   "metadata": {},
   "outputs": [
    {
     "name": "stdout",
     "output_type": "stream",
     "text": [
      "[[1 2 5 6]\n",
      " [3 4 7 8]]\n",
      "\n",
      "[[1 2]\n",
      " [3 4]\n",
      " [5 6]\n",
      " [7 8]]\n"
     ]
    }
   ],
   "source": [
    "# Q.8 = Concatenate 2D array horizontally and vertically?\n",
    "a = np.array([1,2,3,4]).reshape(2,2)\n",
    "b = np.array([5,6,7,8]).reshape(2,2)\n",
    "print(np.hstack((a,b)))\n",
    "print()\n",
    "print(np.vstack((a,b)))"
   ]
  }
 ],
 "metadata": {
  "kernelspec": {
   "display_name": "Python 3 (ipykernel)",
   "language": "python",
   "name": "python3"
  },
  "language_info": {
   "codemirror_mode": {
    "name": "ipython",
    "version": 3
   },
   "file_extension": ".py",
   "mimetype": "text/x-python",
   "name": "python",
   "nbconvert_exporter": "python",
   "pygments_lexer": "ipython3",
   "version": "3.9.13"
  }
 },
 "nbformat": 4,
 "nbformat_minor": 5
}
