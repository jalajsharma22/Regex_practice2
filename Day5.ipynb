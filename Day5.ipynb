{
 "cells": [
  {
   "cell_type": "markdown",
   "id": "52312565",
   "metadata": {},
   "source": [
    "# Lambda function"
   ]
  },
  {
   "cell_type": "code",
   "execution_count": 6,
   "id": "f25e8868",
   "metadata": {},
   "outputs": [
    {
     "data": {
      "text/plain": [
       "<function __main__.<lambda>(x)>"
      ]
     },
     "execution_count": 6,
     "metadata": {},
     "output_type": "execute_result"
    }
   ],
   "source": [
    "#annoymous function\n",
    "#name (gumname hai)\n",
    "#lambda se start\n",
    "#eg\n",
    "def func (x):\n",
    "    return x+10\n",
    "\n",
    "lambda x: x+10"
   ]
  },
  {
   "cell_type": "code",
   "execution_count": 12,
   "id": "b74d93cf",
   "metadata": {},
   "outputs": [
    {
     "name": "stdout",
     "output_type": "stream",
     "text": [
      "<function func at 0x000001F7CD1CC790>\n"
     ]
    },
    {
     "data": {
      "text/plain": [
       "13"
      ]
     },
     "execution_count": 12,
     "metadata": {},
     "output_type": "execute_result"
    }
   ],
   "source": [
    "def func (x):\n",
    "    return x+10\n",
    "print(func)\n",
    "func(3)"
   ]
  },
  {
   "cell_type": "code",
   "execution_count": 13,
   "id": "5437b575",
   "metadata": {},
   "outputs": [
    {
     "name": "stdout",
     "output_type": "stream",
     "text": [
      "<function <lambda> at 0x000001F7CD1CC160>\n"
     ]
    },
    {
     "data": {
      "text/plain": [
       "13"
      ]
     },
     "execution_count": 13,
     "metadata": {},
     "output_type": "execute_result"
    }
   ],
   "source": [
    "x = lambda x: x+10\n",
    "print(x)\n",
    "x(3)"
   ]
  },
  {
   "cell_type": "markdown",
   "id": "0da4ed73",
   "metadata": {},
   "source": [
    "## high order function\n"
   ]
  },
  {
   "cell_type": "markdown",
   "id": "79f56232",
   "metadata": {},
   "source": [
    "### map, filter, reduce"
   ]
  },
  {
   "cell_type": "code",
   "execution_count": 18,
   "id": "15730f27",
   "metadata": {},
   "outputs": [
    {
     "data": {
      "text/plain": [
       "[100, 400, 900, 1600]"
      ]
     },
     "execution_count": 18,
     "metadata": {},
     "output_type": "execute_result"
    }
   ],
   "source": [
    "#map\n",
    "# map( func, iterable<list>)\n",
    "\n",
    "def square(x):\n",
    "    return x*x\n",
    "\n",
    "mylist = [10,20,30,40]\n",
    "list(map( square, mylist))"
   ]
  },
  {
   "cell_type": "code",
   "execution_count": 19,
   "id": "2a3582e9",
   "metadata": {},
   "outputs": [
    {
     "data": {
      "text/plain": [
       "[100, 400, 900, 1600]"
      ]
     },
     "execution_count": 19,
     "metadata": {},
     "output_type": "execute_result"
    }
   ],
   "source": [
    "mylist = [10,20,30,40]\n",
    "list(map( lambda x:x*x, mylist))"
   ]
  },
  {
   "cell_type": "code",
   "execution_count": 21,
   "id": "966463df",
   "metadata": {},
   "outputs": [
    {
     "data": {
      "text/plain": [
       "[True, True, True, True, False]"
      ]
     },
     "execution_count": 21,
     "metadata": {},
     "output_type": "execute_result"
    }
   ],
   "source": [
    "#filter\n",
    "mylist = [10,20,30,40,11]\n",
    "list(map( lambda x:  x%2==0, mylist))"
   ]
  },
  {
   "cell_type": "code",
   "execution_count": null,
   "id": "808944c8",
   "metadata": {},
   "outputs": [],
   "source": []
  },
  {
   "cell_type": "markdown",
   "id": "471863ae",
   "metadata": {},
   "source": [
    "# File Handling"
   ]
  },
  {
   "cell_type": "code",
   "execution_count": 32,
   "id": "a72eb821",
   "metadata": {},
   "outputs": [],
   "source": [
    "#open\n",
    "#read / write \n",
    "#close\n",
    "\n",
    "#read\n",
    "data = open(\"Regex.txt\",'r')\n",
    "x= data.read()\n",
    "data.close()"
   ]
  },
  {
   "cell_type": "code",
   "execution_count": 33,
   "id": "a181088e",
   "metadata": {},
   "outputs": [
    {
     "name": "stdout",
     "output_type": "stream",
     "text": [
      "hey i am deepak\n"
     ]
    }
   ],
   "source": [
    "print(x)"
   ]
  },
  {
   "cell_type": "code",
   "execution_count": 49,
   "id": "7721b5a1",
   "metadata": {},
   "outputs": [],
   "source": [
    "#r+ read and write (exist data remains same)\n",
    "data = open(\"Regex.txt\",'r+')\n",
    "x= data.read()\n",
    "data.write(\"writed\")\n",
    "data.close()"
   ]
  },
  {
   "cell_type": "code",
   "execution_count": 50,
   "id": "4ad4668f",
   "metadata": {
    "scrolled": true
   },
   "outputs": [
    {
     "name": "stdout",
     "output_type": "stream",
     "text": [
      "hey i am deepakwritedwrited\n"
     ]
    }
   ],
   "source": [
    "print(x)"
   ]
  },
  {
   "cell_type": "code",
   "execution_count": 57,
   "id": "a2fc4ce2",
   "metadata": {},
   "outputs": [],
   "source": [
    "#w+ write operation (it overwrites)\n",
    "data = open(\"Regex.txt\",'w+')\n",
    "x= data.read()\n",
    "data.write(\"writed\")\n",
    "data.close()"
   ]
  },
  {
   "cell_type": "code",
   "execution_count": 58,
   "id": "2e905937",
   "metadata": {},
   "outputs": [
    {
     "name": "stdout",
     "output_type": "stream",
     "text": [
      "\n"
     ]
    }
   ],
   "source": [
    "print(x)"
   ]
  },
  {
   "cell_type": "code",
   "execution_count": 67,
   "id": "836b17ac",
   "metadata": {},
   "outputs": [
    {
     "name": "stdout",
     "output_type": "stream",
     "text": [
      "Before 0\n",
      "After 6\n",
      "After 2\n",
      "ited\n"
     ]
    }
   ],
   "source": [
    "#changing cursor position and checking\n",
    "\n",
    "data = open(\"Regex.txt\",'w+')\n",
    "print(f\"Before {data.tell()}\")\n",
    "x= data.read()\n",
    "\n",
    "data.write(\"writed\")\n",
    "print(f\"After {data.tell()}\")\n",
    "\n",
    "data.seek(2)\n",
    "print(f\"After {data.tell()}\")\n",
    "x= data.read()\n",
    "print(x)\n",
    "data.close()"
   ]
  },
  {
   "cell_type": "code",
   "execution_count": 112,
   "id": "ce615501",
   "metadata": {},
   "outputs": [
    {
     "name": "stdout",
     "output_type": "stream",
     "text": [
      "1,deepak,100\n",
      "\n"
     ]
    }
   ],
   "source": [
    "# read with with   \n",
    "\n",
    "with open(\"Regex.txt\",\"r\") as data:\n",
    "    line = data.readline()\n",
    "    \n",
    "print(line)"
   ]
  },
  {
   "cell_type": "code",
   "execution_count": 94,
   "id": "87da4700",
   "metadata": {},
   "outputs": [
    {
     "name": "stdout",
     "output_type": "stream",
     "text": [
      "1,deepak,100\n",
      "2,happy,200\n",
      "3,prince,300\n"
     ]
    }
   ],
   "source": [
    "# read with with   \n",
    "\n",
    "with open(\"Regex.txt\",\"r\") as data:\n",
    "    for line in data.readlines():\n",
    "        print(line.strip())"
   ]
  },
  {
   "cell_type": "code",
   "execution_count": 93,
   "id": "cab34316",
   "metadata": {},
   "outputs": [
    {
     "name": "stdout",
     "output_type": "stream",
     "text": [
      "['1', 'deepak', '100\\n']\n",
      "['2', 'happy', '200\\n']\n",
      "['3', 'prince', '300']\n"
     ]
    }
   ],
   "source": [
    "# read with with   \n",
    "\n",
    "with open(\"Regex.txt\",\"r\") as data:\n",
    "    for line in data.readlines():\n",
    "        \n",
    "        liste = line.split(',')\n",
    "        id,name,salary=liste\n",
    "        print(liste)"
   ]
  },
  {
   "cell_type": "code",
   "execution_count": 84,
   "id": "9d231976",
   "metadata": {},
   "outputs": [
    {
     "name": "stdout",
     "output_type": "stream",
     "text": [
      "10\n"
     ]
    }
   ],
   "source": [
    "mylist=[10,20]\n",
    "x,y=mylist\n",
    "print(x)"
   ]
  },
  {
   "cell_type": "code",
   "execution_count": 96,
   "id": "6bb4a969",
   "metadata": {},
   "outputs": [
    {
     "name": "stdout",
     "output_type": "stream",
     "text": [
      "1 deepak 100\n",
      "2 happy 200\n",
      "3 prince 300\n"
     ]
    }
   ],
   "source": [
    "import csv\n",
    "fileo = open('Regex.txt')\n",
    "f = csv.reader(fileo)\n",
    "\n",
    "for i in f:\n",
    "    id,name,salary=i\n",
    "    print(id,name,salary)"
   ]
  },
  {
   "cell_type": "markdown",
   "id": "9d7df377",
   "metadata": {},
   "source": [
    "### exception handling\n"
   ]
  },
  {
   "cell_type": "code",
   "execution_count": 116,
   "id": "225e4152",
   "metadata": {},
   "outputs": [
    {
     "name": "stdout",
     "output_type": "stream",
     "text": [
      "hello\n"
     ]
    },
    {
     "ename": "ZeroDivisionError",
     "evalue": "division by zero",
     "output_type": "error",
     "traceback": [
      "\u001b[1;31m---------------------------------------------------------------------------\u001b[0m",
      "\u001b[1;31mZeroDivisionError\u001b[0m                         Traceback (most recent call last)",
      "\u001b[1;32m~\\AppData\\Local\\Temp\\ipykernel_3048\\2698285163.py\u001b[0m in \u001b[0;36m<module>\u001b[1;34m\u001b[0m\n\u001b[0;32m      1\u001b[0m \u001b[0mprint\u001b[0m\u001b[1;33m(\u001b[0m\u001b[1;34m\"hello\"\u001b[0m\u001b[1;33m)\u001b[0m\u001b[1;33m\u001b[0m\u001b[1;33m\u001b[0m\u001b[0m\n\u001b[1;32m----> 2\u001b[1;33m \u001b[0mx\u001b[0m\u001b[1;33m/\u001b[0m\u001b[1;36m0\u001b[0m\u001b[1;33m\u001b[0m\u001b[1;33m\u001b[0m\u001b[0m\n\u001b[0m\u001b[0;32m      3\u001b[0m \u001b[0mprint\u001b[0m\u001b[1;33m(\u001b[0m\u001b[1;34m\"hey\"\u001b[0m\u001b[1;33m)\u001b[0m\u001b[1;33m\u001b[0m\u001b[1;33m\u001b[0m\u001b[0m\n",
      "\u001b[1;31mZeroDivisionError\u001b[0m: division by zero"
     ]
    }
   ],
   "source": [
    "print(\"hello\")\n",
    "x/0\n",
    "print(\"hey\")"
   ]
  },
  {
   "cell_type": "code",
   "execution_count": 119,
   "id": "816401a6",
   "metadata": {},
   "outputs": [
    {
     "name": "stdout",
     "output_type": "stream",
     "text": [
      "hello\n",
      "Error handled\n"
     ]
    }
   ],
   "source": [
    "#try and except\n",
    "\n",
    "try:\n",
    "    print(\"hello\")\n",
    "    x/0\n",
    "    print(\"hey\")\n",
    "except:\n",
    "    print(\"Error handled\")"
   ]
  },
  {
   "cell_type": "code",
   "execution_count": 124,
   "id": "eb0b03d9",
   "metadata": {},
   "outputs": [
    {
     "name": "stdout",
     "output_type": "stream",
     "text": [
      "hello\n",
      "Error handled name 'num' is not defined\n"
     ]
    }
   ],
   "source": [
    "#try and except\n",
    "\n",
    "try:\n",
    "    print(\"hello\")\n",
    "#     x/0\n",
    "    x/num\n",
    "    print(\"hey\")\n",
    "except (ZeroDivisionError, NameError) as z:\n",
    "    print(\"Error handled\", z)"
   ]
  },
  {
   "cell_type": "code",
   "execution_count": 126,
   "id": "66f0bd32",
   "metadata": {},
   "outputs": [
    {
     "name": "stdout",
     "output_type": "stream",
     "text": [
      "hello\n",
      "string index out of range : error occured\n"
     ]
    }
   ],
   "source": [
    "#try and except\n",
    "\n",
    "try:\n",
    "    print(\"hello\")\n",
    "    x='deepak'\n",
    "    print(x[100])\n",
    "    print(\"hey\")\n",
    "except (ZeroDivisionError, NameError) as z:\n",
    "    print(\"Error handled\", z)\n",
    "except Exception as e:\n",
    "    print(f\"{e} : error occured\")\n",
    "\n",
    "#syntax error can't be detected\n",
    "#hey is not printing why\n",
    "    "
   ]
  },
  {
   "cell_type": "code",
   "execution_count": 127,
   "id": "18f5ae26",
   "metadata": {},
   "outputs": [
    {
     "name": "stdout",
     "output_type": "stream",
     "text": [
      "hello\n",
      "error handled\n",
      "hey\n"
     ]
    }
   ],
   "source": [
    "#try and except\n",
    "\n",
    "try:\n",
    "    print(\"hello\")\n",
    "    try:\n",
    "        x/0\n",
    "    except:\n",
    "        print(\"error handled\")\n",
    "    print(\"hey\")\n",
    "except (ZeroDivisionError, NameError) as z:\n",
    "    print(\"Error handled\", z)\n",
    "except Exception as e:\n",
    "    print(f\"{e} : error occured\")\n"
   ]
  },
  {
   "cell_type": "code",
   "execution_count": 132,
   "id": "6decaccb",
   "metadata": {},
   "outputs": [
    {
     "name": "stdout",
     "output_type": "stream",
     "text": [
      "hello\n",
      "hey\n",
      "try me error nhi hai\n"
     ]
    }
   ],
   "source": [
    "#if there is not error in try block then else will run\n",
    "try:\n",
    "    print(\"hello\")\n",
    "    x=10\n",
    "    x/10\n",
    "    print(\"hey\")\n",
    "except (ZeroDivisionError, NameError) as z:\n",
    "    print(\"Error handled\", z)\n",
    "except Exception as e:\n",
    "    print(f\"{e} : error occured\")\n",
    "else:\n",
    "    print(\"try me error nhi hai\")\n",
    "    \n",
    "    "
   ]
  },
  {
   "cell_type": "code",
   "execution_count": 135,
   "id": "cada2330",
   "metadata": {},
   "outputs": [
    {
     "name": "stdout",
     "output_type": "stream",
     "text": [
      "hello\n",
      "hey\n",
      "finally\n"
     ]
    }
   ],
   "source": [
    "#if there is error or not in try block then finally will run\n",
    "try:\n",
    "    print(\"hello\")\n",
    "    x=10\n",
    "    x/10\n",
    "    print(\"hey\")\n",
    "except (ZeroDivisionError, NameError) as z:\n",
    "    print(\"Error handled\", z)\n",
    "except Exception as e:\n",
    "    print(f\"{e} : error occured\")\n",
    "finally:\n",
    "    print(\"finally\")\n",
    "    \n",
    "    "
   ]
  },
  {
   "cell_type": "markdown",
   "id": "817354b9",
   "metadata": {},
   "source": [
    "### Assignment"
   ]
  },
  {
   "cell_type": "code",
   "execution_count": null,
   "id": "163dbf8b",
   "metadata": {},
   "outputs": [],
   "source": [
    "# open instagram and signup automaticly"
   ]
  },
  {
   "cell_type": "code",
   "execution_count": 139,
   "id": "5f212988",
   "metadata": {},
   "outputs": [],
   "source": [
    "import webbrowser\n",
    "\n",
    "def open_link(url):\n",
    "    webbrowser.open(url)\n",
    "\n",
    "# Example usage:\n",
    "url = \"https://www.instagram.com/accounts/emailsignup\"\n",
    "open_link(url)\n"
   ]
  },
  {
   "cell_type": "code",
   "execution_count": null,
   "id": "91e386ea",
   "metadata": {},
   "outputs": [],
   "source": [
    "#create a func which will take a number from user and \n",
    "# once a number will provided you have to drop same number of msg to your friend"
   ]
  },
  {
   "cell_type": "code",
   "execution_count": null,
   "id": "48a1b459",
   "metadata": {},
   "outputs": [],
   "source": []
  },
  {
   "cell_type": "code",
   "execution_count": null,
   "id": "321ede42",
   "metadata": {},
   "outputs": [],
   "source": []
  },
  {
   "cell_type": "code",
   "execution_count": null,
   "id": "a549d253",
   "metadata": {},
   "outputs": [],
   "source": []
  },
  {
   "cell_type": "code",
   "execution_count": null,
   "id": "2347e11c",
   "metadata": {},
   "outputs": [],
   "source": []
  },
  {
   "cell_type": "code",
   "execution_count": null,
   "id": "ca912b13",
   "metadata": {},
   "outputs": [],
   "source": []
  },
  {
   "cell_type": "code",
   "execution_count": null,
   "id": "7517009f",
   "metadata": {},
   "outputs": [],
   "source": []
  }
 ],
 "metadata": {
  "kernelspec": {
   "display_name": "Python 3 (ipykernel)",
   "language": "python",
   "name": "python3"
  },
  "language_info": {
   "codemirror_mode": {
    "name": "ipython",
    "version": 3
   },
   "file_extension": ".py",
   "mimetype": "text/x-python",
   "name": "python",
   "nbconvert_exporter": "python",
   "pygments_lexer": "ipython3",
   "version": "3.9.13"
  }
 },
 "nbformat": 4,
 "nbformat_minor": 5
}
