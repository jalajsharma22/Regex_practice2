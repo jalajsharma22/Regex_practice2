{
 "cells": [
  {
   "cell_type": "markdown",
   "id": "1bc00d7b",
   "metadata": {},
   "source": [
    "# Classes and Object"
   ]
  },
  {
   "cell_type": "code",
   "execution_count": null,
   "id": "144a353d",
   "metadata": {},
   "outputs": [],
   "source": [
    "# Object has functionality and behaivour. it is real-world entity\n",
    "# Class is the blueprint of object"
   ]
  },
  {
   "cell_type": "code",
   "execution_count": 5,
   "id": "8bdf2ade",
   "metadata": {},
   "outputs": [],
   "source": [
    "#creating class\n",
    "class House:\n",
    "    color = 'yellow'\n",
    "    room = 5"
   ]
  },
  {
   "cell_type": "code",
   "execution_count": 7,
   "id": "7a9bb290",
   "metadata": {},
   "outputs": [
    {
     "name": "stdout",
     "output_type": "stream",
     "text": [
      "yellow\n",
      "5\n"
     ]
    }
   ],
   "source": [
    "#creating obj1\n",
    "h1 = House()\n",
    "print(h1.color)\n",
    "print(h1.room)"
   ]
  },
  {
   "cell_type": "code",
   "execution_count": 9,
   "id": "572875f5",
   "metadata": {},
   "outputs": [
    {
     "name": "stdout",
     "output_type": "stream",
     "text": [
      "10\n"
     ]
    }
   ],
   "source": [
    "# another obj2\n",
    "# changing data\n",
    "h2 = House()\n",
    "h2.room = 10\n",
    "print(h2.room)"
   ]
  },
  {
   "cell_type": "code",
   "execution_count": 10,
   "id": "43629ec2",
   "metadata": {},
   "outputs": [],
   "source": [
    "#creating class\n",
    "class House:\n",
    "    color = 'yellow'\n",
    "    room = 5\n",
    "    \n",
    "    def info(self):\n",
    "        print('House has', self.color, self.room)"
   ]
  },
  {
   "cell_type": "code",
   "execution_count": 13,
   "id": "6bfd0d73",
   "metadata": {},
   "outputs": [
    {
     "name": "stdout",
     "output_type": "stream",
     "text": [
      "House has yellow 5\n",
      "House has yellow 5\n"
     ]
    }
   ],
   "source": [
    "# another obj2\n",
    "# changing data\n",
    "h1 = House()\n",
    "h2 = House()\n",
    "h2.info()\n",
    "h1.info()"
   ]
  },
  {
   "cell_type": "code",
   "execution_count": 16,
   "id": "0d62cd19",
   "metadata": {},
   "outputs": [],
   "source": [
    "# constructor is function\n",
    "#obj : memory assign karwate\n",
    "# obj variable : initialize\n",
    "class House:\n",
    "    def __init__(self):\n",
    "        print('hello sir')"
   ]
  },
  {
   "cell_type": "code",
   "execution_count": 18,
   "id": "9c08a343",
   "metadata": {},
   "outputs": [
    {
     "name": "stdout",
     "output_type": "stream",
     "text": [
      "hello sir\n",
      "hello sir\n",
      "<__main__.House object at 0x000001BD01CB9580> <__main__.House object at 0x000001BD01CB9A30>\n"
     ]
    }
   ],
   "source": [
    "h1 = House()\n",
    "h2 = House()\n",
    "print(h1,h2)"
   ]
  },
  {
   "cell_type": "code",
   "execution_count": 24,
   "id": "d0e5b578",
   "metadata": {},
   "outputs": [],
   "source": [
    "# constructor is function\n",
    "#obj : memory assign karwate\n",
    "# obj variable : initialize\n",
    "class House:\n",
    "    def __init__(self, color):\n",
    "        print('House has ',color)\n",
    "        "
   ]
  },
  {
   "cell_type": "code",
   "execution_count": 25,
   "id": "a2b7887d",
   "metadata": {},
   "outputs": [
    {
     "name": "stdout",
     "output_type": "stream",
     "text": [
      "House has  yollow\n",
      "House has  green\n"
     ]
    }
   ],
   "source": [
    "h1 = House ('yollow')\n",
    "h2 = House ('green')"
   ]
  },
  {
   "cell_type": "code",
   "execution_count": 36,
   "id": "cfd6048d",
   "metadata": {},
   "outputs": [],
   "source": [
    "# constructor is function\n",
    "#obj : memory assign karwate\n",
    "# obj variable : initialize\n",
    "class House:\n",
    "    def __init__(self, color, room):\n",
    "        self.hcolor = color\n",
    "        self.hroom = room        "
   ]
  },
  {
   "cell_type": "code",
   "execution_count": 39,
   "id": "c92f5957",
   "metadata": {},
   "outputs": [
    {
     "name": "stdout",
     "output_type": "stream",
     "text": [
      "yollow 7\n"
     ]
    }
   ],
   "source": [
    "h3 = House ('yollow',7)\n",
    "h4 = House ('green',9)\n",
    "\n",
    "print(h3.hcolor, h3.hroom)\n"
   ]
  },
  {
   "cell_type": "code",
   "execution_count": 49,
   "id": "6011e537",
   "metadata": {},
   "outputs": [
    {
     "name": "stdout",
     "output_type": "stream",
     "text": [
      "color : red \n",
      "room : 9\n"
     ]
    }
   ],
   "source": [
    "class House:\n",
    "    def __init__(self, color, room):\n",
    "        self.hcolor = color\n",
    "        self.hroom = room        \n",
    "    def info(self):\n",
    "        print(f\"color : {self.hcolor} \\nroom : {self.hroom}\")\n",
    "        \n",
    "h5 = House('red', 9)\n",
    "h5.info()"
   ]
  },
  {
   "cell_type": "code",
   "execution_count": 62,
   "id": "651dd85f",
   "metadata": {},
   "outputs": [
    {
     "name": "stdout",
     "output_type": "stream",
     "text": [
      "Emp name : deepak \n",
      "Emp domain name : gmail.com\n",
      "Emp salary : 400000\n"
     ]
    }
   ],
   "source": [
    "# create employee class\n",
    "# eid, ename, email, company, salary :> instance variable\n",
    "#also create a function which will print the name, the domain name\n",
    "#and the monthly salary of the user\n",
    "\n",
    "class Employee:\n",
    "    def __init__(self, eid, ename, email, company, salary):\n",
    "        self.Eid = eid\n",
    "        self.Ename = ename\n",
    "#         clean = email.spli\n",
    "        self.Email = email\n",
    "        self.Company = company\n",
    "        self.Salary = salary\n",
    "        \n",
    "    def info(self):\n",
    "        print(f\"Emp name : {self.Ename} \\nEmp domain name : {self.Email.split('@')[-1]}\\nEmp salary : {self.Salary}\")\n",
    "        \n",
    "Emp1 = Employee(23, 'deepak', 'dkumarsing7@gmail.com', 'regex', 400000)\n",
    "Emp1.info()"
   ]
  },
  {
   "cell_type": "markdown",
   "id": "21eb6376",
   "metadata": {},
   "source": [
    "## Inheritance"
   ]
  },
  {
   "cell_type": "code",
   "execution_count": null,
   "id": "be66645b",
   "metadata": {},
   "outputs": [],
   "source": [
    "# parent class is also called as base / super class\n",
    "# child class is also called as deried / sub class"
   ]
  },
  {
   "cell_type": "code",
   "execution_count": 68,
   "id": "dbdc89eb",
   "metadata": {},
   "outputs": [
    {
     "data": {
      "text/plain": [
       "10000"
      ]
     },
     "execution_count": 68,
     "metadata": {},
     "output_type": "execute_result"
    }
   ],
   "source": [
    "class Family:\n",
    "    amt = 10000\n",
    "class childern(Family):\n",
    "    pocket_money = 50\n",
    "    \n",
    "c1 = childern()\n",
    "c1.amt\n",
    "# c1.pocket_money"
   ]
  },
  {
   "cell_type": "code",
   "execution_count": 77,
   "id": "2a40ce38",
   "metadata": {},
   "outputs": [
    {
     "name": "stdout",
     "output_type": "stream",
     "text": [
      "10000\n"
     ]
    },
    {
     "data": {
      "text/plain": [
       "10000"
      ]
     },
     "execution_count": 77,
     "metadata": {},
     "output_type": "execute_result"
    }
   ],
   "source": [
    "class Family:\n",
    "    amt = 10000\n",
    "class childern(Family):\n",
    "    pocket_money = 50\n",
    "    print(Family.amt)\n",
    "\n",
    "c1 = childern()\n",
    "c1.amt\n",
    "# c1.pocket_money\n"
   ]
  },
  {
   "cell_type": "code",
   "execution_count": 87,
   "id": "9800dd41",
   "metadata": {},
   "outputs": [
    {
     "name": "stdout",
     "output_type": "stream",
     "text": [
      "99\n",
      "deepak\n",
      "deepak@gmail.com\n"
     ]
    }
   ],
   "source": [
    "# reuseing the above class\n",
    "class Driver:\n",
    "    def __init__(self, ids, name, email):\n",
    "        self.ids = ids\n",
    "        self.name = name\n",
    "        self.email = email\n",
    "class Customer(Driver):\n",
    "    def __init__(self, cids, cname, cemail):\n",
    "        super().__init__(cids, cname, cemail)\n",
    "        \n",
    "c1 = Customer(99,'deepak', 'deepak@gmail.com')\n",
    "print(c1.ids)\n",
    "print(c1.name)\n",
    "print(c1.email)"
   ]
  },
  {
   "cell_type": "code",
   "execution_count": 91,
   "id": "a9bf793e",
   "metadata": {},
   "outputs": [
    {
     "name": "stdout",
     "output_type": "stream",
     "text": [
      "id : 99\n",
      "name : deepak\n",
      "email : deepak@gmail.com\n",
      "id : 99\n",
      "name : deepak\n",
      "email : deepak@gmail.com\n"
     ]
    }
   ],
   "source": [
    "# reuseing the above class\n",
    "class Driver:\n",
    "    def __init__(self, ids, name, email):\n",
    "        self.ids = ids\n",
    "        self.name = name\n",
    "        self.email = email\n",
    "    def info(self):\n",
    "        print(f\"id : {self.ids}\\nname : {self.name}\\nemail : {self.email}\")\n",
    "class Customer(Driver):\n",
    "    def __init__(self, cids, cname, cemail):\n",
    "        super().__init__(cids, cname, cemail)\n",
    "    def info2(self):\n",
    "        super().info()\n",
    "        \n",
    "        \n",
    "c1 = Customer(99,'deepak', 'deepak@gmail.com')\n",
    "c1.info()\n",
    "c1.info2()\n",
    "# print(c1.ids)\n",
    "# print(c1.name)\n",
    "# print(c1.email)"
   ]
  },
  {
   "cell_type": "code",
   "execution_count": 100,
   "id": "e3d691df",
   "metadata": {},
   "outputs": [
    {
     "name": "stdout",
     "output_type": "stream",
     "text": [
      "your shop name is : hardip\n"
     ]
    }
   ],
   "source": [
    "class grandfather:\n",
    "    def age(self, age):\n",
    "        print(f\"your age is : {age}\")\n",
    "class father(grandfather):\n",
    "    def name(self, name):\n",
    "        print(f\"your name is : {name}\")\n",
    "class child(father):\n",
    "    def shop(self, name):\n",
    "        print(f\"your shop name is : {name}\")\n",
    "\n",
    "c1 = child()\n",
    "c1.shop(\"hardip\")\n",
    "              "
   ]
  },
  {
   "cell_type": "code",
   "execution_count": 105,
   "id": "0ed28d03",
   "metadata": {},
   "outputs": [
    {
     "name": "stdout",
     "output_type": "stream",
     "text": [
      "<bound method mammals.name of <__main__.mammals object at 0x000001BD01E6C250>>\n"
     ]
    }
   ],
   "source": [
    "class land:\n",
    "    def name(self):\n",
    "        print(\"Animal\")\n",
    "class water:\n",
    "    def name(self):\n",
    "        print(\"fish\")\n",
    "class mammals(land, water):\n",
    "    def name(self):\n",
    "        print(\"Humans\")\n",
    "c1 = mammals()\n",
    "print(c1.name)"
   ]
  },
  {
   "cell_type": "code",
   "execution_count": null,
   "id": "33834e9f",
   "metadata": {},
   "outputs": [],
   "source": [
    "# what MRO (method resolution order)"
   ]
  }
 ],
 "metadata": {
  "kernelspec": {
   "display_name": "Python 3 (ipykernel)",
   "language": "python",
   "name": "python3"
  },
  "language_info": {
   "codemirror_mode": {
    "name": "ipython",
    "version": 3
   },
   "file_extension": ".py",
   "mimetype": "text/x-python",
   "name": "python",
   "nbconvert_exporter": "python",
   "pygments_lexer": "ipython3",
   "version": "3.9.13"
  }
 },
 "nbformat": 4,
 "nbformat_minor": 5
}
